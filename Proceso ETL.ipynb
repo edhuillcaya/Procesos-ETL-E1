{
 "cells": [
  {
   "cell_type": "code",
   "execution_count": 55,
   "metadata": {},
   "outputs": [],
   "source": [
    "import polars as pl \n",
    "from polars import Config\n"
   ]
  },
  {
   "cell_type": "code",
   "execution_count": 56,
   "metadata": {},
   "outputs": [
    {
     "data": {
      "text/plain": [
       "polars.config.Config"
      ]
     },
     "execution_count": 56,
     "metadata": {},
     "output_type": "execute_result"
    }
   ],
   "source": [
    "Config.set_fmt_str_lengths(100)"
   ]
  },
  {
   "cell_type": "code",
   "execution_count": 72,
   "metadata": {},
   "outputs": [],
   "source": [
    "Historico =pl.read_csv(\n",
    "    source='Tickets Historico.txt',\n",
    "    separator= ';',\n",
    "    columns=['Numero Ticket','Ubicacion', 'Service Desk', 'Estado', 'Fecha Creacion',\n",
    "             'Fecha Termino','Fecha Cierre'],\n",
    "    try_parse_dates=True,\n",
    "    ignore_errors= True\n",
    ")"
   ]
  },
  {
   "cell_type": "code",
   "execution_count": 73,
   "metadata": {},
   "outputs": [
    {
     "data": {
      "text/html": [
       "<div><style>\n",
       ".dataframe > thead > tr,\n",
       ".dataframe > tbody > tr {\n",
       "  text-align: right;\n",
       "  white-space: pre-wrap;\n",
       "}\n",
       "</style>\n",
       "<small>shape: (5, 7)</small><table border=\"1\" class=\"dataframe\"><thead><tr><th>TicketID</th><th>Ubicacion</th><th>Service Desk</th><th>Estado</th><th>Fecha Creacion</th><th>Fecha Termino</th><th>Fecha Cierre</th></tr><tr><td>str</td><td>str</td><td>str</td><td>str</td><td>date</td><td>date</td><td>date</td></tr></thead><tbody><tr><td>&quot;WO0000004122687&quot;</td><td>&quot;AREQUIPA - 215000&quot;</td><td>&quot;Zona Norte&quot;</td><td>&quot;Cerrado&quot;</td><td>2022-06-01</td><td>2022-06-14</td><td>2022-06-14</td></tr><tr><td>&quot;WO0000004122649&quot;</td><td>&quot;METRO AV. WIESSE - 191106&quot;</td><td>&quot;Zona Centro&quot;</td><td>&quot;Cerrado&quot;</td><td>2022-06-01</td><td>2022-06-17</td><td>2022-06-17</td></tr><tr><td>&quot;WO0000004122502&quot;</td><td>&quot;NICOLAS AYLLON - 191027&quot;</td><td>&quot;Zona Centro&quot;</td><td>&quot;Cerrado&quot;</td><td>2022-06-01</td><td>2022-06-08</td><td>2022-06-08</td></tr><tr><td>&quot;WO0000004122513&quot;</td><td>&quot;JAUREGUI - 405005&quot;</td><td>&quot;Zona Norte&quot;</td><td>&quot;Cerrado&quot;</td><td>2022-06-01</td><td>2022-06-18</td><td>2022-06-18</td></tr><tr><td>&quot;WO0000004122741&quot;</td><td>&quot;CANTO GRANDE - 191096&quot;</td><td>&quot;Zona Centro&quot;</td><td>&quot;Cerrado&quot;</td><td>2022-06-01</td><td>2022-06-08</td><td>2022-06-08</td></tr></tbody></table></div>"
      ],
      "text/plain": [
       "shape: (5, 7)\n",
       "┌──────────────┬──────────────┬──────────────┬─────────┬──────────────┬──────────────┬─────────────┐\n",
       "│ TicketID     ┆ Ubicacion    ┆ Service Desk ┆ Estado  ┆ Fecha        ┆ Fecha        ┆ Fecha       │\n",
       "│ ---          ┆ ---          ┆ ---          ┆ ---     ┆ Creacion     ┆ Termino      ┆ Cierre      │\n",
       "│ str          ┆ str          ┆ str          ┆ str     ┆ ---          ┆ ---          ┆ ---         │\n",
       "│              ┆              ┆              ┆         ┆ date         ┆ date         ┆ date        │\n",
       "╞══════════════╪══════════════╪══════════════╪═════════╪══════════════╪══════════════╪═════════════╡\n",
       "│ WO0000004122 ┆ AREQUIPA -   ┆ Zona Norte   ┆ Cerrado ┆ 2022-06-01   ┆ 2022-06-14   ┆ 2022-06-14  │\n",
       "│ 687          ┆ 215000       ┆              ┆         ┆              ┆              ┆             │\n",
       "│ WO0000004122 ┆ METRO AV.    ┆ Zona Centro  ┆ Cerrado ┆ 2022-06-01   ┆ 2022-06-17   ┆ 2022-06-17  │\n",
       "│ 649          ┆ WIESSE -     ┆              ┆         ┆              ┆              ┆             │\n",
       "│              ┆ 191106       ┆              ┆         ┆              ┆              ┆             │\n",
       "│ WO0000004122 ┆ NICOLAS      ┆ Zona Centro  ┆ Cerrado ┆ 2022-06-01   ┆ 2022-06-08   ┆ 2022-06-08  │\n",
       "│ 502          ┆ AYLLON -     ┆              ┆         ┆              ┆              ┆             │\n",
       "│              ┆ 191027       ┆              ┆         ┆              ┆              ┆             │\n",
       "│ WO0000004122 ┆ JAUREGUI -   ┆ Zona Norte   ┆ Cerrado ┆ 2022-06-01   ┆ 2022-06-18   ┆ 2022-06-18  │\n",
       "│ 513          ┆ 405005       ┆              ┆         ┆              ┆              ┆             │\n",
       "│ WO0000004122 ┆ CANTO GRANDE ┆ Zona Centro  ┆ Cerrado ┆ 2022-06-01   ┆ 2022-06-08   ┆ 2022-06-08  │\n",
       "│ 741          ┆ - 191096     ┆              ┆         ┆              ┆              ┆             │\n",
       "└──────────────┴──────────────┴──────────────┴─────────┴──────────────┴──────────────┴─────────────┘"
      ]
     },
     "execution_count": 73,
     "metadata": {},
     "output_type": "execute_result"
    }
   ],
   "source": [
    "Historico = Historico.select(\n",
    "    pl.col('Numero Ticket').alias('TicketID'),\n",
    "    pl.col('Ubicacion'), \n",
    "    pl.col('Service Desk'), \n",
    "    pl.col('Estado'), \n",
    "    pl.col('Fecha Creacion'),\n",
    "    pl.col('Fecha Termino'),\n",
    "    pl.col('Fecha Cierre')\n",
    ")\n",
    "Historico.head()"
   ]
  },
  {
   "cell_type": "code",
   "execution_count": 74,
   "metadata": {},
   "outputs": [
    {
     "data": {
      "text/html": [
       "<div><style>\n",
       ".dataframe > thead > tr,\n",
       ".dataframe > tbody > tr {\n",
       "  text-align: right;\n",
       "  white-space: pre-wrap;\n",
       "}\n",
       "</style>\n",
       "<small>shape: (5, 7)</small><table border=\"1\" class=\"dataframe\"><thead><tr><th>Numero Ticket</th><th>Ubicacion</th><th>Service Desk</th><th>Estado</th><th>Fecha Creacion</th><th>Fecha Termino</th><th>Fecha Cierre</th></tr><tr><td>str</td><td>str</td><td>str</td><td>str</td><td>date</td><td>date</td><td>date</td></tr></thead><tbody><tr><td>&quot;WO0000004853311&quot;</td><td>&quot;TUPAC AMARU - 191038&quot;</td><td>&quot;Zona Centro&quot;</td><td>&quot;Cerrado&quot;</td><td>2023-01-02</td><td>2023-01-10</td><td>2023-01-13</td></tr><tr><td>&quot;WO0000004852942&quot;</td><td>&quot;SAN JUAN DE LURIGANCHO - 191017&quot;</td><td>&quot;Zona Centro&quot;</td><td>&quot;Cerrado&quot;</td><td>2023-01-02</td><td>2023-01-02</td><td>2023-01-05</td></tr><tr><td>&quot;WO0000004852621&quot;</td><td>&quot;MARIANO MELGAR - 215014&quot;</td><td>&quot;Zona Norte&quot;</td><td>&quot;Cerrado&quot;</td><td>2023-01-02</td><td>2023-01-06</td><td>2023-01-09</td></tr><tr><td>&quot;SA0000004853328&quot;</td><td>&quot;ANDAHUAYLAS - 205000&quot;</td><td>&quot;Zona Norte&quot;</td><td>&quot;Cerrado&quot;</td><td>2023-01-02</td><td>2023-01-07</td><td>2023-01-10</td></tr><tr><td>&quot;SA0000004853160&quot;</td><td>&quot;COLLIQUE - 191065&quot;</td><td>&quot;Zona Centro&quot;</td><td>&quot;Cerrado&quot;</td><td>2023-01-02</td><td>2023-01-04</td><td>2023-01-07</td></tr></tbody></table></div>"
      ],
      "text/plain": [
       "shape: (5, 7)\n",
       "┌──────────────┬──────────────┬──────────────┬─────────┬──────────────┬──────────────┬─────────────┐\n",
       "│ Numero       ┆ Ubicacion    ┆ Service Desk ┆ Estado  ┆ Fecha        ┆ Fecha        ┆ Fecha       │\n",
       "│ Ticket       ┆ ---          ┆ ---          ┆ ---     ┆ Creacion     ┆ Termino      ┆ Cierre      │\n",
       "│ ---          ┆ str          ┆ str          ┆ str     ┆ ---          ┆ ---          ┆ ---         │\n",
       "│ str          ┆              ┆              ┆         ┆ date         ┆ date         ┆ date        │\n",
       "╞══════════════╪══════════════╪══════════════╪═════════╪══════════════╪══════════════╪═════════════╡\n",
       "│ WO0000004853 ┆ TUPAC AMARU  ┆ Zona Centro  ┆ Cerrado ┆ 2023-01-02   ┆ 2023-01-10   ┆ 2023-01-13  │\n",
       "│ 311          ┆ - 191038     ┆              ┆         ┆              ┆              ┆             │\n",
       "│ WO0000004852 ┆ SAN JUAN DE  ┆ Zona Centro  ┆ Cerrado ┆ 2023-01-02   ┆ 2023-01-02   ┆ 2023-01-05  │\n",
       "│ 942          ┆ LURIGANCHO - ┆              ┆         ┆              ┆              ┆             │\n",
       "│              ┆ 191017       ┆              ┆         ┆              ┆              ┆             │\n",
       "│ WO0000004852 ┆ MARIANO      ┆ Zona Norte   ┆ Cerrado ┆ 2023-01-02   ┆ 2023-01-06   ┆ 2023-01-09  │\n",
       "│ 621          ┆ MELGAR -     ┆              ┆         ┆              ┆              ┆             │\n",
       "│              ┆ 215014       ┆              ┆         ┆              ┆              ┆             │\n",
       "│ SA0000004853 ┆ ANDAHUAYLAS  ┆ Zona Norte   ┆ Cerrado ┆ 2023-01-02   ┆ 2023-01-07   ┆ 2023-01-10  │\n",
       "│ 328          ┆ - 205000     ┆              ┆         ┆              ┆              ┆             │\n",
       "│ SA0000004853 ┆ COLLIQUE -   ┆ Zona Centro  ┆ Cerrado ┆ 2023-01-02   ┆ 2023-01-04   ┆ 2023-01-07  │\n",
       "│ 160          ┆ 191065       ┆              ┆         ┆              ┆              ┆             │\n",
       "└──────────────┴──────────────┴──────────────┴─────────┴──────────────┴──────────────┴─────────────┘"
      ]
     },
     "execution_count": 74,
     "metadata": {},
     "output_type": "execute_result"
    }
   ],
   "source": [
    "\n",
    "TActual = pl.read_csv(\n",
    "    source='Tickets Actual.csv',\n",
    "    separator= '|',\n",
    "    columns=['Numero Ticket','Ubicacion', 'Service Desk', 'Estado', 'Fecha Creacion',\n",
    "             'Fecha Termino','Fecha Cierre'],\n",
    "    try_parse_dates=True,\n",
    "    ignore_errors= True\n",
    ")\n",
    "TActual.head()"
   ]
  },
  {
   "cell_type": "code",
   "execution_count": 75,
   "metadata": {},
   "outputs": [
    {
     "data": {
      "text/html": [
       "<div><style>\n",
       ".dataframe > thead > tr,\n",
       ".dataframe > tbody > tr {\n",
       "  text-align: right;\n",
       "  white-space: pre-wrap;\n",
       "}\n",
       "</style>\n",
       "<small>shape: (5, 7)</small><table border=\"1\" class=\"dataframe\"><thead><tr><th>TicketID</th><th>Ubicacion</th><th>Service Desk</th><th>Estado</th><th>Fecha Creacion</th><th>Fecha Termino</th><th>Fecha Cierre</th></tr><tr><td>str</td><td>str</td><td>str</td><td>str</td><td>date</td><td>date</td><td>date</td></tr></thead><tbody><tr><td>&quot;WO0000004853311&quot;</td><td>&quot;TUPAC AMARU - 191038&quot;</td><td>&quot;Zona Centro&quot;</td><td>&quot;Cerrado&quot;</td><td>2023-01-02</td><td>2023-01-10</td><td>2023-01-13</td></tr><tr><td>&quot;WO0000004852942&quot;</td><td>&quot;SAN JUAN DE LURIGANCHO - 191017&quot;</td><td>&quot;Zona Centro&quot;</td><td>&quot;Cerrado&quot;</td><td>2023-01-02</td><td>2023-01-02</td><td>2023-01-05</td></tr><tr><td>&quot;WO0000004852621&quot;</td><td>&quot;MARIANO MELGAR - 215014&quot;</td><td>&quot;Zona Norte&quot;</td><td>&quot;Cerrado&quot;</td><td>2023-01-02</td><td>2023-01-06</td><td>2023-01-09</td></tr><tr><td>&quot;SA0000004853328&quot;</td><td>&quot;ANDAHUAYLAS - 205000&quot;</td><td>&quot;Zona Norte&quot;</td><td>&quot;Cerrado&quot;</td><td>2023-01-02</td><td>2023-01-07</td><td>2023-01-10</td></tr><tr><td>&quot;SA0000004853160&quot;</td><td>&quot;COLLIQUE - 191065&quot;</td><td>&quot;Zona Centro&quot;</td><td>&quot;Cerrado&quot;</td><td>2023-01-02</td><td>2023-01-04</td><td>2023-01-07</td></tr></tbody></table></div>"
      ],
      "text/plain": [
       "shape: (5, 7)\n",
       "┌──────────────┬──────────────┬──────────────┬─────────┬──────────────┬──────────────┬─────────────┐\n",
       "│ TicketID     ┆ Ubicacion    ┆ Service Desk ┆ Estado  ┆ Fecha        ┆ Fecha        ┆ Fecha       │\n",
       "│ ---          ┆ ---          ┆ ---          ┆ ---     ┆ Creacion     ┆ Termino      ┆ Cierre      │\n",
       "│ str          ┆ str          ┆ str          ┆ str     ┆ ---          ┆ ---          ┆ ---         │\n",
       "│              ┆              ┆              ┆         ┆ date         ┆ date         ┆ date        │\n",
       "╞══════════════╪══════════════╪══════════════╪═════════╪══════════════╪══════════════╪═════════════╡\n",
       "│ WO0000004853 ┆ TUPAC AMARU  ┆ Zona Centro  ┆ Cerrado ┆ 2023-01-02   ┆ 2023-01-10   ┆ 2023-01-13  │\n",
       "│ 311          ┆ - 191038     ┆              ┆         ┆              ┆              ┆             │\n",
       "│ WO0000004852 ┆ SAN JUAN DE  ┆ Zona Centro  ┆ Cerrado ┆ 2023-01-02   ┆ 2023-01-02   ┆ 2023-01-05  │\n",
       "│ 942          ┆ LURIGANCHO - ┆              ┆         ┆              ┆              ┆             │\n",
       "│              ┆ 191017       ┆              ┆         ┆              ┆              ┆             │\n",
       "│ WO0000004852 ┆ MARIANO      ┆ Zona Norte   ┆ Cerrado ┆ 2023-01-02   ┆ 2023-01-06   ┆ 2023-01-09  │\n",
       "│ 621          ┆ MELGAR -     ┆              ┆         ┆              ┆              ┆             │\n",
       "│              ┆ 215014       ┆              ┆         ┆              ┆              ┆             │\n",
       "│ SA0000004853 ┆ ANDAHUAYLAS  ┆ Zona Norte   ┆ Cerrado ┆ 2023-01-02   ┆ 2023-01-07   ┆ 2023-01-10  │\n",
       "│ 328          ┆ - 205000     ┆              ┆         ┆              ┆              ┆             │\n",
       "│ SA0000004853 ┆ COLLIQUE -   ┆ Zona Centro  ┆ Cerrado ┆ 2023-01-02   ┆ 2023-01-04   ┆ 2023-01-07  │\n",
       "│ 160          ┆ 191065       ┆              ┆         ┆              ┆              ┆             │\n",
       "└──────────────┴──────────────┴──────────────┴─────────┴──────────────┴──────────────┴─────────────┘"
      ]
     },
     "execution_count": 75,
     "metadata": {},
     "output_type": "execute_result"
    }
   ],
   "source": [
    "TActual= TActual.select(\n",
    "    pl.col('Numero Ticket').alias('TicketID'),\n",
    "    pl.col('Ubicacion'), \n",
    "    pl.col('Service Desk'), \n",
    "    pl.col('Estado'), \n",
    "    pl.col('Fecha Creacion'),\n",
    "    pl.col('Fecha Termino'),\n",
    "    pl.col('Fecha Cierre')\n",
    ")\n",
    "TActual.head()"
   ]
  },
  {
   "cell_type": "code",
   "execution_count": 76,
   "metadata": {},
   "outputs": [
    {
     "data": {
      "text/html": [
       "<div><style>\n",
       ".dataframe > thead > tr,\n",
       ".dataframe > tbody > tr {\n",
       "  text-align: right;\n",
       "  white-space: pre-wrap;\n",
       "}\n",
       "</style>\n",
       "<small>shape: (13_050, 3)</small><table border=\"1\" class=\"dataframe\"><thead><tr><th>Fecha Creacion</th><th>Fecha Termino</th><th>Fecha Cierre</th></tr><tr><td>date</td><td>date</td><td>date</td></tr></thead><tbody><tr><td>2023-01-02</td><td>2023-01-10</td><td>2023-01-13</td></tr><tr><td>2023-01-02</td><td>2023-01-02</td><td>2023-01-05</td></tr><tr><td>2023-01-02</td><td>2023-01-06</td><td>2023-01-09</td></tr><tr><td>2023-01-02</td><td>2023-01-07</td><td>2023-01-10</td></tr><tr><td>2023-01-02</td><td>2023-01-04</td><td>2023-01-07</td></tr><tr><td>2023-01-02</td><td>2023-01-06</td><td>2023-01-09</td></tr><tr><td>2023-01-02</td><td>2023-01-04</td><td>2023-01-07</td></tr><tr><td>2023-01-02</td><td>2023-01-15</td><td>2023-01-18</td></tr><tr><td>2023-01-02</td><td>2023-01-07</td><td>2023-01-10</td></tr><tr><td>2023-01-02</td><td>2023-01-04</td><td>2023-01-07</td></tr><tr><td>2023-01-02</td><td>2023-01-06</td><td>2023-01-09</td></tr><tr><td>2023-01-02</td><td>2023-01-04</td><td>2023-01-07</td></tr><tr><td>&hellip;</td><td>&hellip;</td><td>&hellip;</td></tr><tr><td>2023-10-29</td><td>null</td><td>null</td></tr><tr><td>2023-10-29</td><td>null</td><td>null</td></tr><tr><td>2023-10-29</td><td>null</td><td>null</td></tr><tr><td>2023-10-29</td><td>null</td><td>null</td></tr><tr><td>2023-10-29</td><td>null</td><td>null</td></tr><tr><td>2023-10-29</td><td>null</td><td>null</td></tr><tr><td>2023-10-29</td><td>null</td><td>null</td></tr><tr><td>2023-10-29</td><td>null</td><td>null</td></tr><tr><td>2023-10-29</td><td>null</td><td>null</td></tr><tr><td>2023-10-29</td><td>null</td><td>null</td></tr><tr><td>2023-10-29</td><td>null</td><td>null</td></tr><tr><td>2023-10-29</td><td>null</td><td>null</td></tr></tbody></table></div>"
      ],
      "text/plain": [
       "shape: (13_050, 3)\n",
       "┌────────────────┬───────────────┬──────────────┐\n",
       "│ Fecha Creacion ┆ Fecha Termino ┆ Fecha Cierre │\n",
       "│ ---            ┆ ---           ┆ ---          │\n",
       "│ date           ┆ date          ┆ date         │\n",
       "╞════════════════╪═══════════════╪══════════════╡\n",
       "│ 2023-01-02     ┆ 2023-01-10    ┆ 2023-01-13   │\n",
       "│ 2023-01-02     ┆ 2023-01-02    ┆ 2023-01-05   │\n",
       "│ 2023-01-02     ┆ 2023-01-06    ┆ 2023-01-09   │\n",
       "│ 2023-01-02     ┆ 2023-01-07    ┆ 2023-01-10   │\n",
       "│ 2023-01-02     ┆ 2023-01-04    ┆ 2023-01-07   │\n",
       "│ …              ┆ …             ┆ …            │\n",
       "│ 2023-10-29     ┆ null          ┆ null         │\n",
       "│ 2023-10-29     ┆ null          ┆ null         │\n",
       "│ 2023-10-29     ┆ null          ┆ null         │\n",
       "│ 2023-10-29     ┆ null          ┆ null         │\n",
       "│ 2023-10-29     ┆ null          ┆ null         │\n",
       "└────────────────┴───────────────┴──────────────┘"
      ]
     },
     "execution_count": 76,
     "metadata": {},
     "output_type": "execute_result"
    }
   ],
   "source": [
    "TActual.select(\n",
    "    {'Fecha Creacion': pl.date, 'Fecha Termino': pl.date , 'Fecha Cierre': pl.date}\n",
    "\n",
    ")"
   ]
  },
  {
   "cell_type": "code",
   "execution_count": 77,
   "metadata": {},
   "outputs": [
    {
     "data": {
      "text/html": [
       "<div><style>\n",
       ".dataframe > thead > tr,\n",
       ".dataframe > tbody > tr {\n",
       "  text-align: right;\n",
       "  white-space: pre-wrap;\n",
       "}\n",
       "</style>\n",
       "<small>shape: (5, 7)</small><table border=\"1\" class=\"dataframe\"><thead><tr><th>TicketID</th><th>Ubicacion</th><th>Service Desk</th><th>Estado</th><th>Fecha Creacion</th><th>Fecha Termino</th><th>Fecha Cierre</th></tr><tr><td>str</td><td>str</td><td>str</td><td>str</td><td>date</td><td>date</td><td>date</td></tr></thead><tbody><tr><td>&quot;WO0000004853311&quot;</td><td>&quot;TUPAC AMARU - 191038&quot;</td><td>&quot;Zona Centro&quot;</td><td>&quot;Cerrado&quot;</td><td>2023-01-02</td><td>2023-01-10</td><td>2023-01-13</td></tr><tr><td>&quot;WO0000004852942&quot;</td><td>&quot;SAN JUAN DE LURIGANCHO - 191017&quot;</td><td>&quot;Zona Centro&quot;</td><td>&quot;Cerrado&quot;</td><td>2023-01-02</td><td>2023-01-02</td><td>2023-01-05</td></tr><tr><td>&quot;WO0000004852621&quot;</td><td>&quot;MARIANO MELGAR - 215014&quot;</td><td>&quot;Zona Norte&quot;</td><td>&quot;Cerrado&quot;</td><td>2023-01-02</td><td>2023-01-06</td><td>2023-01-09</td></tr><tr><td>&quot;WO0000004853328&quot;</td><td>&quot;ANDAHUAYLAS - 205000&quot;</td><td>&quot;Zona Norte&quot;</td><td>&quot;Cerrado&quot;</td><td>2023-01-02</td><td>2023-01-07</td><td>2023-01-10</td></tr><tr><td>&quot;WO0000004853160&quot;</td><td>&quot;COLLIQUE - 191065&quot;</td><td>&quot;Zona Centro&quot;</td><td>&quot;Cerrado&quot;</td><td>2023-01-02</td><td>2023-01-04</td><td>2023-01-07</td></tr></tbody></table></div>"
      ],
      "text/plain": [
       "shape: (5, 7)\n",
       "┌──────────────┬──────────────┬──────────────┬─────────┬──────────────┬──────────────┬─────────────┐\n",
       "│ TicketID     ┆ Ubicacion    ┆ Service Desk ┆ Estado  ┆ Fecha        ┆ Fecha        ┆ Fecha       │\n",
       "│ ---          ┆ ---          ┆ ---          ┆ ---     ┆ Creacion     ┆ Termino      ┆ Cierre      │\n",
       "│ str          ┆ str          ┆ str          ┆ str     ┆ ---          ┆ ---          ┆ ---         │\n",
       "│              ┆              ┆              ┆         ┆ date         ┆ date         ┆ date        │\n",
       "╞══════════════╪══════════════╪══════════════╪═════════╪══════════════╪══════════════╪═════════════╡\n",
       "│ WO0000004853 ┆ TUPAC AMARU  ┆ Zona Centro  ┆ Cerrado ┆ 2023-01-02   ┆ 2023-01-10   ┆ 2023-01-13  │\n",
       "│ 311          ┆ - 191038     ┆              ┆         ┆              ┆              ┆             │\n",
       "│ WO0000004852 ┆ SAN JUAN DE  ┆ Zona Centro  ┆ Cerrado ┆ 2023-01-02   ┆ 2023-01-02   ┆ 2023-01-05  │\n",
       "│ 942          ┆ LURIGANCHO - ┆              ┆         ┆              ┆              ┆             │\n",
       "│              ┆ 191017       ┆              ┆         ┆              ┆              ┆             │\n",
       "│ WO0000004852 ┆ MARIANO      ┆ Zona Norte   ┆ Cerrado ┆ 2023-01-02   ┆ 2023-01-06   ┆ 2023-01-09  │\n",
       "│ 621          ┆ MELGAR -     ┆              ┆         ┆              ┆              ┆             │\n",
       "│              ┆ 215014       ┆              ┆         ┆              ┆              ┆             │\n",
       "│ WO0000004853 ┆ ANDAHUAYLAS  ┆ Zona Norte   ┆ Cerrado ┆ 2023-01-02   ┆ 2023-01-07   ┆ 2023-01-10  │\n",
       "│ 328          ┆ - 205000     ┆              ┆         ┆              ┆              ┆             │\n",
       "│ WO0000004853 ┆ COLLIQUE -   ┆ Zona Centro  ┆ Cerrado ┆ 2023-01-02   ┆ 2023-01-04   ┆ 2023-01-07  │\n",
       "│ 160          ┆ 191065       ┆              ┆         ┆              ┆              ┆             │\n",
       "└──────────────┴──────────────┴──────────────┴─────────┴──────────────┴──────────────┴─────────────┘"
      ]
     },
     "execution_count": 77,
     "metadata": {},
     "output_type": "execute_result"
    }
   ],
   "source": [
    "Tactual =TActual.filter(\n",
    "     pl.col('TicketID').str.starts_with('WO')\n",
    ")\n",
    "Tactual.head()"
   ]
  },
  {
   "cell_type": "code",
   "execution_count": 78,
   "metadata": {},
   "outputs": [
    {
     "data": {
      "text/html": [
       "<div><style>\n",
       ".dataframe > thead > tr,\n",
       ".dataframe > tbody > tr {\n",
       "  text-align: right;\n",
       "  white-space: pre-wrap;\n",
       "}\n",
       "</style>\n",
       "<small>shape: (5, 7)</small><table border=\"1\" class=\"dataframe\"><thead><tr><th>TicketID</th><th>Ubicacion</th><th>Service Desk</th><th>Estado</th><th>Fecha Creacion</th><th>Fecha Termino</th><th>Fecha Cierre</th></tr><tr><td>str</td><td>str</td><td>str</td><td>str</td><td>date</td><td>date</td><td>date</td></tr></thead><tbody><tr><td>&quot;WO0000004122687&quot;</td><td>&quot;AREQUIPA - 215000&quot;</td><td>&quot;Zona Norte&quot;</td><td>&quot;Cerrado&quot;</td><td>2022-06-01</td><td>2022-06-14</td><td>2022-06-14</td></tr><tr><td>&quot;WO0000004122649&quot;</td><td>&quot;METRO AV. WIESSE - 191106&quot;</td><td>&quot;Zona Centro&quot;</td><td>&quot;Cerrado&quot;</td><td>2022-06-01</td><td>2022-06-17</td><td>2022-06-17</td></tr><tr><td>&quot;WO0000004122502&quot;</td><td>&quot;NICOLAS AYLLON - 191027&quot;</td><td>&quot;Zona Centro&quot;</td><td>&quot;Cerrado&quot;</td><td>2022-06-01</td><td>2022-06-08</td><td>2022-06-08</td></tr><tr><td>&quot;WO0000004122513&quot;</td><td>&quot;JAUREGUI - 405005&quot;</td><td>&quot;Zona Norte&quot;</td><td>&quot;Cerrado&quot;</td><td>2022-06-01</td><td>2022-06-18</td><td>2022-06-18</td></tr><tr><td>&quot;WO0000004122741&quot;</td><td>&quot;CANTO GRANDE - 191096&quot;</td><td>&quot;Zona Centro&quot;</td><td>&quot;Cerrado&quot;</td><td>2022-06-01</td><td>2022-06-08</td><td>2022-06-08</td></tr></tbody></table></div>"
      ],
      "text/plain": [
       "shape: (5, 7)\n",
       "┌──────────────┬──────────────┬──────────────┬─────────┬──────────────┬──────────────┬─────────────┐\n",
       "│ TicketID     ┆ Ubicacion    ┆ Service Desk ┆ Estado  ┆ Fecha        ┆ Fecha        ┆ Fecha       │\n",
       "│ ---          ┆ ---          ┆ ---          ┆ ---     ┆ Creacion     ┆ Termino      ┆ Cierre      │\n",
       "│ str          ┆ str          ┆ str          ┆ str     ┆ ---          ┆ ---          ┆ ---         │\n",
       "│              ┆              ┆              ┆         ┆ date         ┆ date         ┆ date        │\n",
       "╞══════════════╪══════════════╪══════════════╪═════════╪══════════════╪══════════════╪═════════════╡\n",
       "│ WO0000004122 ┆ AREQUIPA -   ┆ Zona Norte   ┆ Cerrado ┆ 2022-06-01   ┆ 2022-06-14   ┆ 2022-06-14  │\n",
       "│ 687          ┆ 215000       ┆              ┆         ┆              ┆              ┆             │\n",
       "│ WO0000004122 ┆ METRO AV.    ┆ Zona Centro  ┆ Cerrado ┆ 2022-06-01   ┆ 2022-06-17   ┆ 2022-06-17  │\n",
       "│ 649          ┆ WIESSE -     ┆              ┆         ┆              ┆              ┆             │\n",
       "│              ┆ 191106       ┆              ┆         ┆              ┆              ┆             │\n",
       "│ WO0000004122 ┆ NICOLAS      ┆ Zona Centro  ┆ Cerrado ┆ 2022-06-01   ┆ 2022-06-08   ┆ 2022-06-08  │\n",
       "│ 502          ┆ AYLLON -     ┆              ┆         ┆              ┆              ┆             │\n",
       "│              ┆ 191027       ┆              ┆         ┆              ┆              ┆             │\n",
       "│ WO0000004122 ┆ JAUREGUI -   ┆ Zona Norte   ┆ Cerrado ┆ 2022-06-01   ┆ 2022-06-18   ┆ 2022-06-18  │\n",
       "│ 513          ┆ 405005       ┆              ┆         ┆              ┆              ┆             │\n",
       "│ WO0000004122 ┆ CANTO GRANDE ┆ Zona Centro  ┆ Cerrado ┆ 2022-06-01   ┆ 2022-06-08   ┆ 2022-06-08  │\n",
       "│ 741          ┆ - 191096     ┆              ┆         ┆              ┆              ┆             │\n",
       "└──────────────┴──────────────┴──────────────┴─────────┴──────────────┴──────────────┴─────────────┘"
      ]
     },
     "execution_count": 78,
     "metadata": {},
     "output_type": "execute_result"
    }
   ],
   "source": [
    "Historico.head()"
   ]
  },
  {
   "cell_type": "code",
   "execution_count": 79,
   "metadata": {},
   "outputs": [
    {
     "data": {
      "text/html": [
       "<div><style>\n",
       ".dataframe > thead > tr,\n",
       ".dataframe > tbody > tr {\n",
       "  text-align: right;\n",
       "  white-space: pre-wrap;\n",
       "}\n",
       "</style>\n",
       "<small>shape: (5, 7)</small><table border=\"1\" class=\"dataframe\"><thead><tr><th>TicketID</th><th>Ubicacion</th><th>Service Desk</th><th>Estado</th><th>Fecha Creacion</th><th>Fecha Termino</th><th>Fecha Cierre</th></tr><tr><td>str</td><td>str</td><td>str</td><td>str</td><td>date</td><td>date</td><td>date</td></tr></thead><tbody><tr><td>&quot;WO0000004122687&quot;</td><td>&quot;AREQUIPA - 215000&quot;</td><td>&quot;Zona Norte&quot;</td><td>&quot;Cerrado&quot;</td><td>2022-06-01</td><td>2022-06-14</td><td>2022-06-14</td></tr><tr><td>&quot;WO0000004122649&quot;</td><td>&quot;METRO AV. WIESSE - 191106&quot;</td><td>&quot;Zona Centro&quot;</td><td>&quot;Cerrado&quot;</td><td>2022-06-01</td><td>2022-06-17</td><td>2022-06-17</td></tr><tr><td>&quot;WO0000004122502&quot;</td><td>&quot;NICOLAS AYLLON - 191027&quot;</td><td>&quot;Zona Centro&quot;</td><td>&quot;Cerrado&quot;</td><td>2022-06-01</td><td>2022-06-08</td><td>2022-06-08</td></tr><tr><td>&quot;WO0000004122513&quot;</td><td>&quot;JAUREGUI - 405005&quot;</td><td>&quot;Zona Norte&quot;</td><td>&quot;Cerrado&quot;</td><td>2022-06-01</td><td>2022-06-18</td><td>2022-06-18</td></tr><tr><td>&quot;WO0000004122741&quot;</td><td>&quot;CANTO GRANDE - 191096&quot;</td><td>&quot;Zona Centro&quot;</td><td>&quot;Cerrado&quot;</td><td>2022-06-01</td><td>2022-06-08</td><td>2022-06-08</td></tr></tbody></table></div>"
      ],
      "text/plain": [
       "shape: (5, 7)\n",
       "┌──────────────┬──────────────┬──────────────┬─────────┬──────────────┬──────────────┬─────────────┐\n",
       "│ TicketID     ┆ Ubicacion    ┆ Service Desk ┆ Estado  ┆ Fecha        ┆ Fecha        ┆ Fecha       │\n",
       "│ ---          ┆ ---          ┆ ---          ┆ ---     ┆ Creacion     ┆ Termino      ┆ Cierre      │\n",
       "│ str          ┆ str          ┆ str          ┆ str     ┆ ---          ┆ ---          ┆ ---         │\n",
       "│              ┆              ┆              ┆         ┆ date         ┆ date         ┆ date        │\n",
       "╞══════════════╪══════════════╪══════════════╪═════════╪══════════════╪══════════════╪═════════════╡\n",
       "│ WO0000004122 ┆ AREQUIPA -   ┆ Zona Norte   ┆ Cerrado ┆ 2022-06-01   ┆ 2022-06-14   ┆ 2022-06-14  │\n",
       "│ 687          ┆ 215000       ┆              ┆         ┆              ┆              ┆             │\n",
       "│ WO0000004122 ┆ METRO AV.    ┆ Zona Centro  ┆ Cerrado ┆ 2022-06-01   ┆ 2022-06-17   ┆ 2022-06-17  │\n",
       "│ 649          ┆ WIESSE -     ┆              ┆         ┆              ┆              ┆             │\n",
       "│              ┆ 191106       ┆              ┆         ┆              ┆              ┆             │\n",
       "│ WO0000004122 ┆ NICOLAS      ┆ Zona Centro  ┆ Cerrado ┆ 2022-06-01   ┆ 2022-06-08   ┆ 2022-06-08  │\n",
       "│ 502          ┆ AYLLON -     ┆              ┆         ┆              ┆              ┆             │\n",
       "│              ┆ 191027       ┆              ┆         ┆              ┆              ┆             │\n",
       "│ WO0000004122 ┆ JAUREGUI -   ┆ Zona Norte   ┆ Cerrado ┆ 2022-06-01   ┆ 2022-06-18   ┆ 2022-06-18  │\n",
       "│ 513          ┆ 405005       ┆              ┆         ┆              ┆              ┆             │\n",
       "│ WO0000004122 ┆ CANTO GRANDE ┆ Zona Centro  ┆ Cerrado ┆ 2022-06-01   ┆ 2022-06-08   ┆ 2022-06-08  │\n",
       "│ 741          ┆ - 191096     ┆              ┆         ┆              ┆              ┆             │\n",
       "└──────────────┴──────────────┴──────────────┴─────────┴──────────────┴──────────────┴─────────────┘"
      ]
     },
     "execution_count": 79,
     "metadata": {},
     "output_type": "execute_result"
    }
   ],
   "source": [
    "# CONSOLIDANDO EL HISTORICO Y EL  ACTUAL\n",
    "Tickets =pl.concat([Historico,TActual])\n",
    "Tickets.head()"
   ]
  },
  {
   "cell_type": "code",
   "execution_count": 80,
   "metadata": {},
   "outputs": [
    {
     "data": {
      "text/html": [
       "<div><style>\n",
       ".dataframe > thead > tr,\n",
       ".dataframe > tbody > tr {\n",
       "  text-align: right;\n",
       "  white-space: pre-wrap;\n",
       "}\n",
       "</style>\n",
       "<small>shape: (22_243, 7)</small><table border=\"1\" class=\"dataframe\"><thead><tr><th>TicketID</th><th>Ubicacion</th><th>Service Desk</th><th>Estado</th><th>Fecha Creacion</th><th>Fecha Termino</th><th>Fecha Cierre</th></tr><tr><td>str</td><td>str</td><td>str</td><td>str</td><td>date</td><td>date</td><td>date</td></tr></thead><tbody><tr><td>&quot;WO0000004747801&quot;</td><td>&quot;ROSA TORO - 193022&quot;</td><td>&quot;Zona Centro&quot;</td><td>&quot;Cerrado&quot;</td><td>2022-11-21</td><td>2022-11-29</td><td>2022-12-02</td></tr><tr><td>&quot;WO0000005183251&quot;</td><td>&quot;CAYMA - 215002&quot;</td><td>&quot;Zona Norte&quot;</td><td>&quot;Cerrado&quot;</td><td>2023-04-27</td><td>2023-05-04</td><td>2023-05-07</td></tr><tr><td>&quot;WO0000004720848&quot;</td><td>&quot;SANTO DOMINGO - 191036&quot;</td><td>&quot;Zona Centro&quot;</td><td>&quot;Cerrado&quot;</td><td>2022-11-13</td><td>2022-11-14</td><td>2022-11-17</td></tr><tr><td>&quot;WO0000004912419&quot;</td><td>&quot;LOS ALISOS - 191080&quot;</td><td>&quot;Zona Centro&quot;</td><td>&quot;Cerrado&quot;</td><td>2023-01-20</td><td>2023-02-07</td><td>2023-02-10</td></tr><tr><td>&quot;WO0000004753452&quot;</td><td>&quot;LARAPA - 285005&quot;</td><td>&quot;Zona Norte&quot;</td><td>&quot;Cerrado&quot;</td><td>2022-11-25</td><td>2022-11-29</td><td>2022-12-02</td></tr><tr><td>&quot;WO0000005321424&quot;</td><td>&quot;BELAUNDE - 191018&quot;</td><td>&quot;Zona Centro&quot;</td><td>&quot;Cerrado&quot;</td><td>2023-06-17</td><td>2023-06-18</td><td>2023-06-21</td></tr><tr><td>&quot;WO0000004877543&quot;</td><td>&quot;SIGLO XX - 215015&quot;</td><td>&quot;Zona Norte&quot;</td><td>&quot;Cerrado&quot;</td><td>2023-01-08</td><td>2023-01-17</td><td>2023-01-20</td></tr><tr><td>&quot;WO0000004774291&quot;</td><td>&quot;QUILCA - 191160&quot;</td><td>&quot;Zona Centro&quot;</td><td>&quot;Cerrado&quot;</td><td>2022-12-02</td><td>2022-12-06</td><td>2022-12-09</td></tr><tr><td>&quot;WO0000005281627&quot;</td><td>&quot;REAL PLAZA CUSCO - 285011&quot;</td><td>&quot;Zona Norte&quot;</td><td>&quot;Cerrado&quot;</td><td>2023-06-02</td><td>2023-07-13</td><td>2023-07-16</td></tr><tr><td>&quot;WO0000005654983&quot;</td><td>&quot;LAS VIÑAS - 193066&quot;</td><td>&quot;Zona Sur&quot;</td><td>&quot;Cerrado&quot;</td><td>2023-10-01</td><td>2023-10-07</td><td>2023-10-10</td></tr><tr><td>&quot;WO0000004347713&quot;</td><td>&quot;CHOSICA - 191075&quot;</td><td>&quot;Zona Centro&quot;</td><td>&quot;Cerrado&quot;</td><td>2022-08-17</td><td>2022-08-21</td><td>2022-08-21</td></tr><tr><td>&quot;WO0000004425052&quot;</td><td>&quot;DIAGONAL - 285003&quot;</td><td>&quot;Zona Norte&quot;</td><td>&quot;Cerrado&quot;</td><td>2022-09-11</td><td>2022-09-14</td><td>2022-09-14</td></tr><tr><td>&hellip;</td><td>&hellip;</td><td>&hellip;</td><td>&hellip;</td><td>&hellip;</td><td>&hellip;</td><td>&hellip;</td></tr><tr><td>&quot;WO0000004145772&quot;</td><td>&quot;MALL AVENTURA PLAZA AREQUIPA - 215011&quot;</td><td>&quot;Zona Norte&quot;</td><td>&quot;Rechazado&quot;</td><td>2022-06-10</td><td>2022-06-10</td><td>null</td></tr><tr><td>&quot;WO0000005655249&quot;</td><td>&quot;LAS MALVINAS - 191076&quot;</td><td>&quot;Zona Centro&quot;</td><td>&quot;Cerrado&quot;</td><td>2023-10-01</td><td>2023-10-10</td><td>2023-10-13</td></tr><tr><td>&quot;WO0000005016975&quot;</td><td>&quot;MOQUEGUA - 430000&quot;</td><td>&quot;Zona Norte&quot;</td><td>&quot;Cerrado&quot;</td><td>2023-02-24</td><td>2023-08-04</td><td>2023-08-07</td></tr><tr><td>&quot;WO0000004472023&quot;</td><td>&quot;NICOLAS AYLLON - 191027&quot;</td><td>&quot;Zona Centro&quot;</td><td>&quot;Cerrado&quot;</td><td>2022-09-25</td><td>2022-10-18</td><td>2022-10-18</td></tr><tr><td>&quot;WO0000004156461&quot;</td><td>&quot;PARCONA - 380007&quot;</td><td>&quot;Zona Norte&quot;</td><td>&quot;Cerrado&quot;</td><td>2022-06-12</td><td>2022-06-18</td><td>2022-06-18</td></tr><tr><td>&quot;WO0000005160651&quot;</td><td>&quot;PLAZA LIMA NORTE - 191058&quot;</td><td>&quot;Zona Centro&quot;</td><td>&quot;Cerrado&quot;</td><td>2023-04-17</td><td>2023-05-21</td><td>2023-05-24</td></tr><tr><td>&quot;WO0000004497382&quot;</td><td>&quot;GRAU (LIMA) - 191005&quot;</td><td>&quot;Zona Centro&quot;</td><td>&quot;Cerrado&quot;</td><td>2022-10-03</td><td>2022-10-07</td><td>2022-10-07</td></tr><tr><td>&quot;WO0000004371254&quot;</td><td>&quot;GRAU (LIMA) - 191005&quot;</td><td>&quot;Zona Centro&quot;</td><td>&quot;Cerrado&quot;</td><td>2022-08-26</td><td>2022-08-27</td><td>2022-08-27</td></tr><tr><td>&quot;WO0000004198275&quot;</td><td>&quot;MERCADO DE FRUTAS - 191064&quot;</td><td>&quot;Zona Centro&quot;</td><td>&quot;Cerrado&quot;</td><td>2022-06-26</td><td>2022-07-15</td><td>2022-07-15</td></tr><tr><td>&quot;WO0000005586105&quot;</td><td>&quot;CENTRO CIVICO - 191105&quot;</td><td>&quot;Zona Sur&quot;</td><td>&quot;Cerrado&quot;</td><td>2023-09-09</td><td>2023-10-08</td><td>2023-10-11</td></tr><tr><td>&quot;WO0000004244126&quot;</td><td>&quot;EDUARDO DE HABICH - 191023&quot;</td><td>&quot;Zona Centro&quot;</td><td>&quot;Cerrado&quot;</td><td>2022-07-10</td><td>2022-07-17</td><td>2022-07-17</td></tr><tr><td>&quot;WO0000005404390&quot;</td><td>&quot;ZARATE - 191097&quot;</td><td>&quot;Zona Centro&quot;</td><td>&quot;Cerrado&quot;</td><td>2023-07-14</td><td>2023-07-14</td><td>2023-07-17</td></tr></tbody></table></div>"
      ],
      "text/plain": [
       "shape: (22_243, 7)\n",
       "┌──────────────┬──────────────┬──────────────┬─────────┬──────────────┬──────────────┬─────────────┐\n",
       "│ TicketID     ┆ Ubicacion    ┆ Service Desk ┆ Estado  ┆ Fecha        ┆ Fecha        ┆ Fecha       │\n",
       "│ ---          ┆ ---          ┆ ---          ┆ ---     ┆ Creacion     ┆ Termino      ┆ Cierre      │\n",
       "│ str          ┆ str          ┆ str          ┆ str     ┆ ---          ┆ ---          ┆ ---         │\n",
       "│              ┆              ┆              ┆         ┆ date         ┆ date         ┆ date        │\n",
       "╞══════════════╪══════════════╪══════════════╪═════════╪══════════════╪══════════════╪═════════════╡\n",
       "│ WO0000004747 ┆ ROSA TORO -  ┆ Zona Centro  ┆ Cerrado ┆ 2022-11-21   ┆ 2022-11-29   ┆ 2022-12-02  │\n",
       "│ 801          ┆ 193022       ┆              ┆         ┆              ┆              ┆             │\n",
       "│ WO0000005183 ┆ CAYMA -      ┆ Zona Norte   ┆ Cerrado ┆ 2023-04-27   ┆ 2023-05-04   ┆ 2023-05-07  │\n",
       "│ 251          ┆ 215002       ┆              ┆         ┆              ┆              ┆             │\n",
       "│ WO0000004720 ┆ SANTO        ┆ Zona Centro  ┆ Cerrado ┆ 2022-11-13   ┆ 2022-11-14   ┆ 2022-11-17  │\n",
       "│ 848          ┆ DOMINGO -    ┆              ┆         ┆              ┆              ┆             │\n",
       "│              ┆ 191036       ┆              ┆         ┆              ┆              ┆             │\n",
       "│ WO0000004912 ┆ LOS ALISOS - ┆ Zona Centro  ┆ Cerrado ┆ 2023-01-20   ┆ 2023-02-07   ┆ 2023-02-10  │\n",
       "│ 419          ┆ 191080       ┆              ┆         ┆              ┆              ┆             │\n",
       "│ WO0000004753 ┆ LARAPA -     ┆ Zona Norte   ┆ Cerrado ┆ 2022-11-25   ┆ 2022-11-29   ┆ 2022-12-02  │\n",
       "│ 452          ┆ 285005       ┆              ┆         ┆              ┆              ┆             │\n",
       "│ …            ┆ …            ┆ …            ┆ …       ┆ …            ┆ …            ┆ …           │\n",
       "│ WO0000004371 ┆ GRAU (LIMA)  ┆ Zona Centro  ┆ Cerrado ┆ 2022-08-26   ┆ 2022-08-27   ┆ 2022-08-27  │\n",
       "│ 254          ┆ - 191005     ┆              ┆         ┆              ┆              ┆             │\n",
       "│ WO0000004198 ┆ MERCADO DE   ┆ Zona Centro  ┆ Cerrado ┆ 2022-06-26   ┆ 2022-07-15   ┆ 2022-07-15  │\n",
       "│ 275          ┆ FRUTAS -     ┆              ┆         ┆              ┆              ┆             │\n",
       "│              ┆ 191064       ┆              ┆         ┆              ┆              ┆             │\n",
       "│ WO0000005586 ┆ CENTRO       ┆ Zona Sur     ┆ Cerrado ┆ 2023-09-09   ┆ 2023-10-08   ┆ 2023-10-11  │\n",
       "│ 105          ┆ CIVICO -     ┆              ┆         ┆              ┆              ┆             │\n",
       "│              ┆ 191105       ┆              ┆         ┆              ┆              ┆             │\n",
       "│ WO0000004244 ┆ EDUARDO DE   ┆ Zona Centro  ┆ Cerrado ┆ 2022-07-10   ┆ 2022-07-17   ┆ 2022-07-17  │\n",
       "│ 126          ┆ HABICH -     ┆              ┆         ┆              ┆              ┆             │\n",
       "│              ┆ 191023       ┆              ┆         ┆              ┆              ┆             │\n",
       "│ WO0000005404 ┆ ZARATE -     ┆ Zona Centro  ┆ Cerrado ┆ 2023-07-14   ┆ 2023-07-14   ┆ 2023-07-17  │\n",
       "│ 390          ┆ 191097       ┆              ┆         ┆              ┆              ┆             │\n",
       "└──────────────┴──────────────┴──────────────┴─────────┴──────────────┴──────────────┴─────────────┘"
      ]
     },
     "execution_count": 80,
     "metadata": {},
     "output_type": "execute_result"
    }
   ],
   "source": [
    "Tickets.shape\n",
    "Tickets.unique(subset='TicketID')\n",
    "\n"
   ]
  },
  {
   "cell_type": "code",
   "execution_count": 81,
   "metadata": {},
   "outputs": [
    {
     "data": {
      "text/html": [
       "<div><style>\n",
       ".dataframe > thead > tr,\n",
       ".dataframe > tbody > tr {\n",
       "  text-align: right;\n",
       "  white-space: pre-wrap;\n",
       "}\n",
       "</style>\n",
       "<small>shape: (26, 7)</small><table border=\"1\" class=\"dataframe\"><thead><tr><th>TicketID</th><th>Ubicacion</th><th>Service Desk</th><th>Estado</th><th>Fecha Creacion</th><th>Fecha Termino</th><th>Fecha Cierre</th></tr><tr><td>str</td><td>str</td><td>str</td><td>str</td><td>date</td><td>date</td><td>date</td></tr></thead><tbody><tr><td>&quot;WO0000004849732&quot;</td><td>&quot;EL PINO - 191087&quot;</td><td>&quot;Zona Centro&quot;</td><td>&quot;Cerrado&quot;</td><td>2022-12-31</td><td>2023-01-06</td><td>2023-01-09</td></tr><tr><td>&quot;WO0000004849382&quot;</td><td>&quot;LOS DAMASCOS - 193038&quot;</td><td>&quot;Zona Sur&quot;</td><td>&quot;Cerrado&quot;</td><td>2022-12-31</td><td>2023-01-04</td><td>2023-01-07</td></tr><tr><td>&quot;WO0000004849307&quot;</td><td>&quot;TUSILAGOS - 191108&quot;</td><td>&quot;Zona Centro&quot;</td><td>&quot;Rechazado&quot;</td><td>2022-12-31</td><td>null</td><td>null</td></tr><tr><td>&quot;WO0000004849379&quot;</td><td>&quot;NAYLAMP - 191143&quot;</td><td>&quot;Zona Centro&quot;</td><td>&quot;Cerrado&quot;</td><td>2022-12-31</td><td>2023-01-25</td><td>2023-01-28</td></tr><tr><td>&quot;WO0000004849726&quot;</td><td>&quot;LUREN - 380004&quot;</td><td>&quot;Zona Sur&quot;</td><td>&quot;Cerrado&quot;</td><td>2022-12-31</td><td>2023-01-02</td><td>2023-01-05</td></tr><tr><td>&quot;WO0000004849718&quot;</td><td>&quot;AREQUIPA - 215000&quot;</td><td>&quot;Zona Norte&quot;</td><td>&quot;Rechazado&quot;</td><td>2022-12-31</td><td>null</td><td>null</td></tr><tr><td>&quot;WO0000004848619&quot;</td><td>&quot;ILO - 385000&quot;</td><td>&quot;Zona Norte&quot;</td><td>&quot;Cerrado&quot;</td><td>2022-12-31</td><td>2023-01-09</td><td>2023-01-12</td></tr><tr><td>&quot;WO0000004849721&quot;</td><td>&quot;LUREN - 380004&quot;</td><td>&quot;Zona Sur&quot;</td><td>&quot;Cerrado&quot;</td><td>2022-12-31</td><td>2023-01-02</td><td>2023-01-05</td></tr><tr><td>&quot;WO0000004849330&quot;</td><td>&quot;IMPERIAL - 255001&quot;</td><td>&quot;Zona Centro&quot;</td><td>&quot;Cerrado&quot;</td><td>2022-12-31</td><td>2023-01-14</td><td>2023-01-17</td></tr><tr><td>&quot;WO0000004849355&quot;</td><td>&quot;VITARTE - 191043&quot;</td><td>&quot;Zona Centro&quot;</td><td>&quot;Cerrado&quot;</td><td>2022-12-31</td><td>2023-01-03</td><td>2023-01-06</td></tr><tr><td>&quot;WO0000004848638&quot;</td><td>&quot;VILLA SOL - 191059&quot;</td><td>&quot;Zona Centro&quot;</td><td>&quot;Cerrado&quot;</td><td>2022-12-31</td><td>2022-12-31</td><td>2023-01-03</td></tr><tr><td>&quot;WO0000004848666&quot;</td><td>&quot;QUILCA - 191160&quot;</td><td>&quot;Zona Centro&quot;</td><td>&quot;Cerrado&quot;</td><td>2022-12-31</td><td>2023-01-04</td><td>2023-01-07</td></tr><tr><td>&hellip;</td><td>&hellip;</td><td>&hellip;</td><td>&hellip;</td><td>&hellip;</td><td>&hellip;</td><td>&hellip;</td></tr><tr><td>&quot;WO0000004849382&quot;</td><td>&quot;LOS DAMASCOS - 193038&quot;</td><td>&quot;Zona Sur&quot;</td><td>&quot;Cerrado&quot;</td><td>2022-12-31</td><td>2023-01-04</td><td>2023-01-07</td></tr><tr><td>&quot;WO0000004849307&quot;</td><td>&quot;TUSILAGOS - 191108&quot;</td><td>&quot;Zona Centro&quot;</td><td>&quot;Rechazado&quot;</td><td>2022-12-31</td><td>null</td><td>null</td></tr><tr><td>&quot;WO0000004849379&quot;</td><td>&quot;NAYLAMP - 191143&quot;</td><td>&quot;Zona Centro&quot;</td><td>&quot;Cerrado&quot;</td><td>2022-12-31</td><td>2023-01-25</td><td>2023-01-28</td></tr><tr><td>&quot;WO0000004849726&quot;</td><td>&quot;LUREN - 380004&quot;</td><td>&quot;Zona Sur&quot;</td><td>&quot;Cerrado&quot;</td><td>2022-12-31</td><td>2023-01-02</td><td>2023-01-05</td></tr><tr><td>&quot;WO0000004849718&quot;</td><td>&quot;AREQUIPA - 215000&quot;</td><td>&quot;Zona Norte&quot;</td><td>&quot;Rechazado&quot;</td><td>2022-12-31</td><td>null</td><td>null</td></tr><tr><td>&quot;WO0000004849721&quot;</td><td>&quot;LUREN - 380004&quot;</td><td>&quot;Zona Sur&quot;</td><td>&quot;Cerrado&quot;</td><td>2022-12-31</td><td>2023-01-02</td><td>2023-01-05</td></tr><tr><td>&quot;WO0000004849330&quot;</td><td>&quot;IMPERIAL - 255001&quot;</td><td>&quot;Zona Centro&quot;</td><td>&quot;Cerrado&quot;</td><td>2022-12-31</td><td>2023-01-14</td><td>2023-01-17</td></tr><tr><td>&quot;WO0000004848619&quot;</td><td>&quot;ILO - 385000&quot;</td><td>&quot;Zona Norte&quot;</td><td>&quot;Cerrado&quot;</td><td>2022-12-31</td><td>2023-01-09</td><td>2023-01-12</td></tr><tr><td>&quot;WO0000004848666&quot;</td><td>&quot;QUILCA - 191160&quot;</td><td>&quot;Zona Centro&quot;</td><td>&quot;Cerrado&quot;</td><td>2022-12-31</td><td>2023-01-04</td><td>2023-01-07</td></tr><tr><td>&quot;WO0000004848654&quot;</td><td>&quot;MERCADO DE FRUTAS - 191064&quot;</td><td>&quot;Zona Centro&quot;</td><td>&quot;Cerrado&quot;</td><td>2022-12-31</td><td>2023-01-13</td><td>2023-01-16</td></tr><tr><td>&quot;WO0000004849355&quot;</td><td>&quot;VITARTE - 191043&quot;</td><td>&quot;Zona Centro&quot;</td><td>&quot;Cerrado&quot;</td><td>2022-12-31</td><td>2023-01-03</td><td>2023-01-06</td></tr><tr><td>&quot;WO0000004848638&quot;</td><td>&quot;VILLA SOL - 191059&quot;</td><td>&quot;Zona Centro&quot;</td><td>&quot;Cerrado&quot;</td><td>2022-12-31</td><td>2022-12-31</td><td>2023-01-03</td></tr></tbody></table></div>"
      ],
      "text/plain": [
       "shape: (26, 7)\n",
       "┌──────────────┬──────────────┬──────────────┬───────────┬─────────────┬─────────────┬─────────────┐\n",
       "│ TicketID     ┆ Ubicacion    ┆ Service Desk ┆ Estado    ┆ Fecha       ┆ Fecha       ┆ Fecha       │\n",
       "│ ---          ┆ ---          ┆ ---          ┆ ---       ┆ Creacion    ┆ Termino     ┆ Cierre      │\n",
       "│ str          ┆ str          ┆ str          ┆ str       ┆ ---         ┆ ---         ┆ ---         │\n",
       "│              ┆              ┆              ┆           ┆ date        ┆ date        ┆ date        │\n",
       "╞══════════════╪══════════════╪══════════════╪═══════════╪═════════════╪═════════════╪═════════════╡\n",
       "│ WO0000004849 ┆ EL PINO -    ┆ Zona Centro  ┆ Cerrado   ┆ 2022-12-31  ┆ 2023-01-06  ┆ 2023-01-09  │\n",
       "│ 732          ┆ 191087       ┆              ┆           ┆             ┆             ┆             │\n",
       "│ WO0000004849 ┆ LOS DAMASCOS ┆ Zona Sur     ┆ Cerrado   ┆ 2022-12-31  ┆ 2023-01-04  ┆ 2023-01-07  │\n",
       "│ 382          ┆ - 193038     ┆              ┆           ┆             ┆             ┆             │\n",
       "│ WO0000004849 ┆ TUSILAGOS -  ┆ Zona Centro  ┆ Rechazado ┆ 2022-12-31  ┆ null        ┆ null        │\n",
       "│ 307          ┆ 191108       ┆              ┆           ┆             ┆             ┆             │\n",
       "│ WO0000004849 ┆ NAYLAMP -    ┆ Zona Centro  ┆ Cerrado   ┆ 2022-12-31  ┆ 2023-01-25  ┆ 2023-01-28  │\n",
       "│ 379          ┆ 191143       ┆              ┆           ┆             ┆             ┆             │\n",
       "│ WO0000004849 ┆ LUREN -      ┆ Zona Sur     ┆ Cerrado   ┆ 2022-12-31  ┆ 2023-01-02  ┆ 2023-01-05  │\n",
       "│ 726          ┆ 380004       ┆              ┆           ┆             ┆             ┆             │\n",
       "│ …            ┆ …            ┆ …            ┆ …         ┆ …           ┆ …           ┆ …           │\n",
       "│ WO0000004848 ┆ ILO - 385000 ┆ Zona Norte   ┆ Cerrado   ┆ 2022-12-31  ┆ 2023-01-09  ┆ 2023-01-12  │\n",
       "│ 619          ┆              ┆              ┆           ┆             ┆             ┆             │\n",
       "│ WO0000004848 ┆ QUILCA -     ┆ Zona Centro  ┆ Cerrado   ┆ 2022-12-31  ┆ 2023-01-04  ┆ 2023-01-07  │\n",
       "│ 666          ┆ 191160       ┆              ┆           ┆             ┆             ┆             │\n",
       "│ WO0000004848 ┆ MERCADO DE   ┆ Zona Centro  ┆ Cerrado   ┆ 2022-12-31  ┆ 2023-01-13  ┆ 2023-01-16  │\n",
       "│ 654          ┆ FRUTAS -     ┆              ┆           ┆             ┆             ┆             │\n",
       "│              ┆ 191064       ┆              ┆           ┆             ┆             ┆             │\n",
       "│ WO0000004849 ┆ VITARTE -    ┆ Zona Centro  ┆ Cerrado   ┆ 2022-12-31  ┆ 2023-01-03  ┆ 2023-01-06  │\n",
       "│ 355          ┆ 191043       ┆              ┆           ┆             ┆             ┆             │\n",
       "│ WO0000004848 ┆ VILLA SOL -  ┆ Zona Centro  ┆ Cerrado   ┆ 2022-12-31  ┆ 2022-12-31  ┆ 2023-01-03  │\n",
       "│ 638          ┆ 191059       ┆              ┆           ┆             ┆             ┆             │\n",
       "└──────────────┴──────────────┴──────────────┴───────────┴─────────────┴─────────────┴─────────────┘"
      ]
     },
     "execution_count": 81,
     "metadata": {},
     "output_type": "execute_result"
    }
   ],
   "source": [
    "Tickets.filter(\n",
    "    pl.col('TicketID').is_duplicated()\n",
    ")"
   ]
  },
  {
   "cell_type": "code",
   "execution_count": 82,
   "metadata": {},
   "outputs": [
    {
     "data": {
      "text/html": [
       "<div><style>\n",
       ".dataframe > thead > tr,\n",
       ".dataframe > tbody > tr {\n",
       "  text-align: right;\n",
       "  white-space: pre-wrap;\n",
       "}\n",
       "</style>\n",
       "<small>shape: (5, 7)</small><table border=\"1\" class=\"dataframe\"><thead><tr><th>TicketID</th><th>Ubicacion</th><th>Service Desk</th><th>Estado</th><th>Fecha Creacion</th><th>Fecha Termino</th><th>Fecha Cierre</th></tr><tr><td>str</td><td>str</td><td>str</td><td>str</td><td>date</td><td>date</td><td>date</td></tr></thead><tbody><tr><td>&quot;WO0000004122687&quot;</td><td>&quot;AREQUIPA - 215000&quot;</td><td>&quot;Zona Norte&quot;</td><td>&quot;Cerrado&quot;</td><td>2022-06-01</td><td>2022-06-14</td><td>2022-06-14</td></tr><tr><td>&quot;WO0000004122649&quot;</td><td>&quot;METRO AV. WIESSE - 191106&quot;</td><td>&quot;Zona Centro&quot;</td><td>&quot;Cerrado&quot;</td><td>2022-06-01</td><td>2022-06-17</td><td>2022-06-17</td></tr><tr><td>&quot;WO0000004122502&quot;</td><td>&quot;NICOLAS AYLLON - 191027&quot;</td><td>&quot;Zona Centro&quot;</td><td>&quot;Cerrado&quot;</td><td>2022-06-01</td><td>2022-06-08</td><td>2022-06-08</td></tr><tr><td>&quot;WO0000004122513&quot;</td><td>&quot;JAUREGUI - 405005&quot;</td><td>&quot;Zona Norte&quot;</td><td>&quot;Cerrado&quot;</td><td>2022-06-01</td><td>2022-06-18</td><td>2022-06-18</td></tr><tr><td>&quot;WO0000004122741&quot;</td><td>&quot;CANTO GRANDE - 191096&quot;</td><td>&quot;Zona Centro&quot;</td><td>&quot;Cerrado&quot;</td><td>2022-06-01</td><td>2022-06-08</td><td>2022-06-08</td></tr></tbody></table></div>"
      ],
      "text/plain": [
       "shape: (5, 7)\n",
       "┌──────────────┬──────────────┬──────────────┬─────────┬──────────────┬──────────────┬─────────────┐\n",
       "│ TicketID     ┆ Ubicacion    ┆ Service Desk ┆ Estado  ┆ Fecha        ┆ Fecha        ┆ Fecha       │\n",
       "│ ---          ┆ ---          ┆ ---          ┆ ---     ┆ Creacion     ┆ Termino      ┆ Cierre      │\n",
       "│ str          ┆ str          ┆ str          ┆ str     ┆ ---          ┆ ---          ┆ ---         │\n",
       "│              ┆              ┆              ┆         ┆ date         ┆ date         ┆ date        │\n",
       "╞══════════════╪══════════════╪══════════════╪═════════╪══════════════╪══════════════╪═════════════╡\n",
       "│ WO0000004122 ┆ AREQUIPA -   ┆ Zona Norte   ┆ Cerrado ┆ 2022-06-01   ┆ 2022-06-14   ┆ 2022-06-14  │\n",
       "│ 687          ┆ 215000       ┆              ┆         ┆              ┆              ┆             │\n",
       "│ WO0000004122 ┆ METRO AV.    ┆ Zona Centro  ┆ Cerrado ┆ 2022-06-01   ┆ 2022-06-17   ┆ 2022-06-17  │\n",
       "│ 649          ┆ WIESSE -     ┆              ┆         ┆              ┆              ┆             │\n",
       "│              ┆ 191106       ┆              ┆         ┆              ┆              ┆             │\n",
       "│ WO0000004122 ┆ NICOLAS      ┆ Zona Centro  ┆ Cerrado ┆ 2022-06-01   ┆ 2022-06-08   ┆ 2022-06-08  │\n",
       "│ 502          ┆ AYLLON -     ┆              ┆         ┆              ┆              ┆             │\n",
       "│              ┆ 191027       ┆              ┆         ┆              ┆              ┆             │\n",
       "│ WO0000004122 ┆ JAUREGUI -   ┆ Zona Norte   ┆ Cerrado ┆ 2022-06-01   ┆ 2022-06-18   ┆ 2022-06-18  │\n",
       "│ 513          ┆ 405005       ┆              ┆         ┆              ┆              ┆             │\n",
       "│ WO0000004122 ┆ CANTO GRANDE ┆ Zona Centro  ┆ Cerrado ┆ 2022-06-01   ┆ 2022-06-08   ┆ 2022-06-08  │\n",
       "│ 741          ┆ - 191096     ┆              ┆         ┆              ┆              ┆             │\n",
       "└──────────────┴──────────────┴──────────────┴─────────┴──────────────┴──────────────┴─────────────┘"
      ]
     },
     "execution_count": 82,
     "metadata": {},
     "output_type": "execute_result"
    }
   ],
   "source": [
    "Tickets.head()"
   ]
  },
  {
   "cell_type": "code",
   "execution_count": 83,
   "metadata": {},
   "outputs": [],
   "source": [
    "Tickets = Tickets.with_columns(\n",
    "    pl.col('Ubicacion').str.split_exact(' - ',1).struct.rename_fields(['Agencia','AgenciaID']).alias('Agencia')\n",
    ").unnest('Agencia')\n",
    "\n"
   ]
  },
  {
   "cell_type": "code",
   "execution_count": 84,
   "metadata": {},
   "outputs": [
    {
     "data": {
      "text/html": [
       "<div><style>\n",
       ".dataframe > thead > tr,\n",
       ".dataframe > tbody > tr {\n",
       "  text-align: right;\n",
       "  white-space: pre-wrap;\n",
       "}\n",
       "</style>\n",
       "<small>shape: (5, 9)</small><table border=\"1\" class=\"dataframe\"><thead><tr><th>TicketID</th><th>Ubicacion</th><th>Service Desk</th><th>Estado</th><th>Fecha Creacion</th><th>Fecha Termino</th><th>Fecha Cierre</th><th>Agencia</th><th>AgenciaID</th></tr><tr><td>str</td><td>str</td><td>str</td><td>str</td><td>date</td><td>date</td><td>date</td><td>str</td><td>str</td></tr></thead><tbody><tr><td>&quot;WO0000004122687&quot;</td><td>&quot;AREQUIPA - 215000&quot;</td><td>&quot;Zona Norte&quot;</td><td>&quot;Cerrado&quot;</td><td>2022-06-01</td><td>2022-06-14</td><td>2022-06-14</td><td>&quot;AREQUIPA&quot;</td><td>&quot;215000&quot;</td></tr><tr><td>&quot;WO0000004122649&quot;</td><td>&quot;METRO AV. WIESSE - 191106&quot;</td><td>&quot;Zona Centro&quot;</td><td>&quot;Cerrado&quot;</td><td>2022-06-01</td><td>2022-06-17</td><td>2022-06-17</td><td>&quot;METRO AV. WIESSE&quot;</td><td>&quot;191106&quot;</td></tr><tr><td>&quot;WO0000004122502&quot;</td><td>&quot;NICOLAS AYLLON - 191027&quot;</td><td>&quot;Zona Centro&quot;</td><td>&quot;Cerrado&quot;</td><td>2022-06-01</td><td>2022-06-08</td><td>2022-06-08</td><td>&quot;NICOLAS AYLLON&quot;</td><td>&quot;191027&quot;</td></tr><tr><td>&quot;WO0000004122513&quot;</td><td>&quot;JAUREGUI - 405005&quot;</td><td>&quot;Zona Norte&quot;</td><td>&quot;Cerrado&quot;</td><td>2022-06-01</td><td>2022-06-18</td><td>2022-06-18</td><td>&quot;JAUREGUI&quot;</td><td>&quot;405005&quot;</td></tr><tr><td>&quot;WO0000004122741&quot;</td><td>&quot;CANTO GRANDE - 191096&quot;</td><td>&quot;Zona Centro&quot;</td><td>&quot;Cerrado&quot;</td><td>2022-06-01</td><td>2022-06-08</td><td>2022-06-08</td><td>&quot;CANTO GRANDE&quot;</td><td>&quot;191096&quot;</td></tr></tbody></table></div>"
      ],
      "text/plain": [
       "shape: (5, 9)\n",
       "┌────────────┬───────────┬───────────┬─────────┬───┬───────────┬───────────┬───────────┬───────────┐\n",
       "│ TicketID   ┆ Ubicacion ┆ Service   ┆ Estado  ┆ … ┆ Fecha     ┆ Fecha     ┆ Agencia   ┆ AgenciaID │\n",
       "│ ---        ┆ ---       ┆ Desk      ┆ ---     ┆   ┆ Termino   ┆ Cierre    ┆ ---       ┆ ---       │\n",
       "│ str        ┆ str       ┆ ---       ┆ str     ┆   ┆ ---       ┆ ---       ┆ str       ┆ str       │\n",
       "│            ┆           ┆ str       ┆         ┆   ┆ date      ┆ date      ┆           ┆           │\n",
       "╞════════════╪═══════════╪═══════════╪═════════╪═══╪═══════════╪═══════════╪═══════════╪═══════════╡\n",
       "│ WO00000041 ┆ AREQUIPA  ┆ Zona      ┆ Cerrado ┆ … ┆ 2022-06-1 ┆ 2022-06-1 ┆ AREQUIPA  ┆ 215000    │\n",
       "│ 22687      ┆ - 215000  ┆ Norte     ┆         ┆   ┆ 4         ┆ 4         ┆           ┆           │\n",
       "│ WO00000041 ┆ METRO AV. ┆ Zona      ┆ Cerrado ┆ … ┆ 2022-06-1 ┆ 2022-06-1 ┆ METRO AV. ┆ 191106    │\n",
       "│ 22649      ┆ WIESSE -  ┆ Centro    ┆         ┆   ┆ 7         ┆ 7         ┆ WIESSE    ┆           │\n",
       "│            ┆ 191106    ┆           ┆         ┆   ┆           ┆           ┆           ┆           │\n",
       "│ WO00000041 ┆ NICOLAS   ┆ Zona      ┆ Cerrado ┆ … ┆ 2022-06-0 ┆ 2022-06-0 ┆ NICOLAS   ┆ 191027    │\n",
       "│ 22502      ┆ AYLLON -  ┆ Centro    ┆         ┆   ┆ 8         ┆ 8         ┆ AYLLON    ┆           │\n",
       "│            ┆ 191027    ┆           ┆         ┆   ┆           ┆           ┆           ┆           │\n",
       "│ WO00000041 ┆ JAUREGUI  ┆ Zona      ┆ Cerrado ┆ … ┆ 2022-06-1 ┆ 2022-06-1 ┆ JAUREGUI  ┆ 405005    │\n",
       "│ 22513      ┆ - 405005  ┆ Norte     ┆         ┆   ┆ 8         ┆ 8         ┆           ┆           │\n",
       "│ WO00000041 ┆ CANTO     ┆ Zona      ┆ Cerrado ┆ … ┆ 2022-06-0 ┆ 2022-06-0 ┆ CANTO     ┆ 191096    │\n",
       "│ 22741      ┆ GRANDE -  ┆ Centro    ┆         ┆   ┆ 8         ┆ 8         ┆ GRANDE    ┆           │\n",
       "│            ┆ 191096    ┆           ┆         ┆   ┆           ┆           ┆           ┆           │\n",
       "└────────────┴───────────┴───────────┴─────────┴───┴───────────┴───────────┴───────────┴───────────┘"
      ]
     },
     "execution_count": 84,
     "metadata": {},
     "output_type": "execute_result"
    }
   ],
   "source": [
    "Tickets.head()"
   ]
  },
  {
   "cell_type": "code",
   "execution_count": 85,
   "metadata": {},
   "outputs": [],
   "source": [
    "Tickets = Tickets.cast({'AgenciaID': pl.Int64})"
   ]
  },
  {
   "cell_type": "code",
   "execution_count": 86,
   "metadata": {},
   "outputs": [
    {
     "data": {
      "text/html": [
       "<div><style>\n",
       ".dataframe > thead > tr,\n",
       ".dataframe > tbody > tr {\n",
       "  text-align: right;\n",
       "  white-space: pre-wrap;\n",
       "}\n",
       "</style>\n",
       "<small>shape: (100, 9)</small><table border=\"1\" class=\"dataframe\"><thead><tr><th>TicketID</th><th>Ubicacion</th><th>Service Desk</th><th>Estado</th><th>Fecha Creacion</th><th>Fecha Termino</th><th>Fecha Cierre</th><th>Agencia</th><th>AgenciaID</th></tr><tr><td>str</td><td>str</td><td>str</td><td>str</td><td>date</td><td>date</td><td>date</td><td>str</td><td>i64</td></tr></thead><tbody><tr><td>&quot;WO0000004122687&quot;</td><td>&quot;AREQUIPA - 215000&quot;</td><td>&quot;Zona Norte&quot;</td><td>&quot;Cerrado&quot;</td><td>2022-06-01</td><td>2022-06-14</td><td>2022-06-14</td><td>&quot;AREQUIPA&quot;</td><td>215000</td></tr><tr><td>&quot;WO0000004122649&quot;</td><td>&quot;METRO AV. WIESSE - 191106&quot;</td><td>&quot;Zona Centro&quot;</td><td>&quot;Cerrado&quot;</td><td>2022-06-01</td><td>2022-06-17</td><td>2022-06-17</td><td>&quot;METRO AV. WIESSE&quot;</td><td>191106</td></tr><tr><td>&quot;WO0000004122502&quot;</td><td>&quot;NICOLAS AYLLON - 191027&quot;</td><td>&quot;Zona Centro&quot;</td><td>&quot;Cerrado&quot;</td><td>2022-06-01</td><td>2022-06-08</td><td>2022-06-08</td><td>&quot;NICOLAS AYLLON&quot;</td><td>191027</td></tr><tr><td>&quot;WO0000004122513&quot;</td><td>&quot;JAUREGUI - 405005&quot;</td><td>&quot;Zona Norte&quot;</td><td>&quot;Cerrado&quot;</td><td>2022-06-01</td><td>2022-06-18</td><td>2022-06-18</td><td>&quot;JAUREGUI&quot;</td><td>405005</td></tr><tr><td>&quot;WO0000004122741&quot;</td><td>&quot;CANTO GRANDE - 191096&quot;</td><td>&quot;Zona Centro&quot;</td><td>&quot;Cerrado&quot;</td><td>2022-06-01</td><td>2022-06-08</td><td>2022-06-08</td><td>&quot;CANTO GRANDE&quot;</td><td>191096</td></tr><tr><td>&quot;WO0000004122511&quot;</td><td>&quot;CHIMPU OCLLO - 191113&quot;</td><td>&quot;Zona Centro&quot;</td><td>&quot;Cerrado&quot;</td><td>2022-06-01</td><td>2022-06-03</td><td>2022-06-03</td><td>&quot;CHIMPU OCLLO&quot;</td><td>191113</td></tr><tr><td>&quot;WO0000004122522&quot;</td><td>&quot;MINI AGENCIA BCP SALAMANCA - 191090&quot;</td><td>&quot;Zona Centro&quot;</td><td>&quot;Cerrado&quot;</td><td>2022-06-01</td><td>2022-06-07</td><td>2022-06-07</td><td>&quot;MINI AGENCIA BCP SALAMANCA&quot;</td><td>191090</td></tr><tr><td>&quot;WO0000004122302&quot;</td><td>&quot;IMPERIAL - 255001&quot;</td><td>&quot;Zona Norte&quot;</td><td>&quot;Cerrado&quot;</td><td>2022-06-01</td><td>2022-06-10</td><td>2022-06-10</td><td>&quot;IMPERIAL&quot;</td><td>255001</td></tr><tr><td>&quot;WO0000004122360&quot;</td><td>&quot;AREQUIPA - 215000&quot;</td><td>&quot;Zona Norte&quot;</td><td>&quot;Cerrado&quot;</td><td>2022-06-01</td><td>2022-06-13</td><td>2022-06-13</td><td>&quot;AREQUIPA&quot;</td><td>215000</td></tr><tr><td>&quot;WO0000004122688&quot;</td><td>&quot;AREQUIPA - 215000&quot;</td><td>&quot;Zona Norte&quot;</td><td>&quot;Cerrado&quot;</td><td>2022-06-01</td><td>2022-06-17</td><td>2022-06-17</td><td>&quot;AREQUIPA&quot;</td><td>215000</td></tr><tr><td>&quot;WO0000004122303&quot;</td><td>&quot;IMPERIAL - 255001&quot;</td><td>&quot;Zona Norte&quot;</td><td>&quot;Cerrado&quot;</td><td>2022-06-01</td><td>2022-06-17</td><td>2022-06-17</td><td>&quot;IMPERIAL&quot;</td><td>255001</td></tr><tr><td>&quot;WO0000004122726&quot;</td><td>&quot;LA SALLE - 191114&quot;</td><td>&quot;Zona Centro&quot;</td><td>&quot;Cerrado&quot;</td><td>2022-06-01</td><td>2022-06-07</td><td>2022-06-07</td><td>&quot;LA SALLE&quot;</td><td>191114</td></tr><tr><td>&hellip;</td><td>&hellip;</td><td>&hellip;</td><td>&hellip;</td><td>&hellip;</td><td>&hellip;</td><td>&hellip;</td><td>&hellip;</td><td>&hellip;</td></tr><tr><td>&quot;WO0000004125579&quot;</td><td>&quot;SAN ROMAN - 405003&quot;</td><td>&quot;Zona Norte&quot;</td><td>&quot;Terminado&quot;</td><td>2022-06-03</td><td>2022-06-08</td><td>null</td><td>&quot;SAN ROMAN&quot;</td><td>405003</td></tr><tr><td>&quot;WO0000004123704&quot;</td><td>&quot;NAZCA - 440000&quot;</td><td>&quot;Zona Norte&quot;</td><td>&quot;Terminado&quot;</td><td>2022-06-03</td><td>2022-06-05</td><td>null</td><td>&quot;NAZCA&quot;</td><td>440000</td></tr><tr><td>&quot;WO0000004123552&quot;</td><td>&quot;JULIACA - 405000&quot;</td><td>&quot;Zona Norte&quot;</td><td>&quot;Terminado&quot;</td><td>2022-06-03</td><td>2022-06-10</td><td>null</td><td>&quot;JULIACA&quot;</td><td>405000</td></tr><tr><td>&quot;WO0000004123605&quot;</td><td>&quot;JULIACA - 405000&quot;</td><td>&quot;Zona Norte&quot;</td><td>&quot;Terminado&quot;</td><td>2022-06-03</td><td>2022-06-10</td><td>null</td><td>&quot;JULIACA&quot;</td><td>405000</td></tr><tr><td>&quot;WO0000004123669&quot;</td><td>&quot;COLLIQUE - 191065&quot;</td><td>&quot;Zona Centro&quot;</td><td>&quot;Rechazado&quot;</td><td>2022-06-03</td><td>2022-06-13</td><td>null</td><td>&quot;COLLIQUE&quot;</td><td>191065</td></tr><tr><td>&quot;WO0000004123764&quot;</td><td>&quot;ILO - 385000&quot;</td><td>&quot;Zona Norte&quot;</td><td>&quot;Terminado&quot;</td><td>2022-06-03</td><td>2022-06-05</td><td>2022-06-05</td><td>&quot;ILO&quot;</td><td>385000</td></tr><tr><td>&quot;WO0000004127481&quot;</td><td>&quot;PLAZA UNION - 191062&quot;</td><td>&quot;Zona Centro&quot;</td><td>&quot;Terminado&quot;</td><td>2022-06-03</td><td>2022-06-05</td><td>null</td><td>&quot;PLAZA UNION&quot;</td><td>191062</td></tr><tr><td>&quot;WO0000004125317&quot;</td><td>&quot;SANTA LUZMILA - 191063&quot;</td><td>&quot;Zona Centro&quot;</td><td>&quot;Terminado&quot;</td><td>2022-06-03</td><td>2022-06-19</td><td>null</td><td>&quot;SANTA LUZMILA&quot;</td><td>191063</td></tr><tr><td>&quot;WO0000004123812&quot;</td><td>&quot;PLAZA LIMA NORTE - 191058&quot;</td><td>&quot;Zona Centro&quot;</td><td>&quot;Terminado&quot;</td><td>2022-06-03</td><td>2022-06-06</td><td>null</td><td>&quot;PLAZA LIMA NORTE&quot;</td><td>191058</td></tr><tr><td>&quot;WO0000004123576&quot;</td><td>&quot;BELAUNDE - 191018&quot;</td><td>&quot;Zona Centro&quot;</td><td>&quot;Terminado&quot;</td><td>2022-06-03</td><td>2022-06-21</td><td>null</td><td>&quot;BELAUNDE&quot;</td><td>191018</td></tr><tr><td>&quot;WO0000004131410&quot;</td><td>&quot;CAYMA - 215002&quot;</td><td>&quot;Zona Norte&quot;</td><td>&quot;Cerrado&quot;</td><td>2022-06-04</td><td>2022-06-17</td><td>2022-06-17</td><td>&quot;CAYMA&quot;</td><td>215002</td></tr><tr><td>&quot;WO0000004129580&quot;</td><td>&quot;CUSCO - 285000&quot;</td><td>&quot;Zona Norte&quot;</td><td>&quot;Cerrado&quot;</td><td>2022-06-04</td><td>2022-06-25</td><td>2022-06-25</td><td>&quot;CUSCO&quot;</td><td>285000</td></tr></tbody></table></div>"
      ],
      "text/plain": [
       "shape: (100, 9)\n",
       "┌───────────┬───────────┬───────────┬───────────┬───┬───────────┬───────────┬───────────┬──────────┐\n",
       "│ TicketID  ┆ Ubicacion ┆ Service   ┆ Estado    ┆ … ┆ Fecha     ┆ Fecha     ┆ Agencia   ┆ AgenciaI │\n",
       "│ ---       ┆ ---       ┆ Desk      ┆ ---       ┆   ┆ Termino   ┆ Cierre    ┆ ---       ┆ D        │\n",
       "│ str       ┆ str       ┆ ---       ┆ str       ┆   ┆ ---       ┆ ---       ┆ str       ┆ ---      │\n",
       "│           ┆           ┆ str       ┆           ┆   ┆ date      ┆ date      ┆           ┆ i64      │\n",
       "╞═══════════╪═══════════╪═══════════╪═══════════╪═══╪═══════════╪═══════════╪═══════════╪══════════╡\n",
       "│ WO0000004 ┆ AREQUIPA  ┆ Zona      ┆ Cerrado   ┆ … ┆ 2022-06-1 ┆ 2022-06-1 ┆ AREQUIPA  ┆ 215000   │\n",
       "│ 122687    ┆ - 215000  ┆ Norte     ┆           ┆   ┆ 4         ┆ 4         ┆           ┆          │\n",
       "│ WO0000004 ┆ METRO AV. ┆ Zona      ┆ Cerrado   ┆ … ┆ 2022-06-1 ┆ 2022-06-1 ┆ METRO AV. ┆ 191106   │\n",
       "│ 122649    ┆ WIESSE -  ┆ Centro    ┆           ┆   ┆ 7         ┆ 7         ┆ WIESSE    ┆          │\n",
       "│           ┆ 191106    ┆           ┆           ┆   ┆           ┆           ┆           ┆          │\n",
       "│ WO0000004 ┆ NICOLAS   ┆ Zona      ┆ Cerrado   ┆ … ┆ 2022-06-0 ┆ 2022-06-0 ┆ NICOLAS   ┆ 191027   │\n",
       "│ 122502    ┆ AYLLON -  ┆ Centro    ┆           ┆   ┆ 8         ┆ 8         ┆ AYLLON    ┆          │\n",
       "│           ┆ 191027    ┆           ┆           ┆   ┆           ┆           ┆           ┆          │\n",
       "│ WO0000004 ┆ JAUREGUI  ┆ Zona      ┆ Cerrado   ┆ … ┆ 2022-06-1 ┆ 2022-06-1 ┆ JAUREGUI  ┆ 405005   │\n",
       "│ 122513    ┆ - 405005  ┆ Norte     ┆           ┆   ┆ 8         ┆ 8         ┆           ┆          │\n",
       "│ WO0000004 ┆ CANTO     ┆ Zona      ┆ Cerrado   ┆ … ┆ 2022-06-0 ┆ 2022-06-0 ┆ CANTO     ┆ 191096   │\n",
       "│ 122741    ┆ GRANDE -  ┆ Centro    ┆           ┆   ┆ 8         ┆ 8         ┆ GRANDE    ┆          │\n",
       "│           ┆ 191096    ┆           ┆           ┆   ┆           ┆           ┆           ┆          │\n",
       "│ …         ┆ …         ┆ …         ┆ …         ┆ … ┆ …         ┆ …         ┆ …         ┆ …        │\n",
       "│ WO0000004 ┆ SANTA     ┆ Zona      ┆ Terminado ┆ … ┆ 2022-06-1 ┆ null      ┆ SANTA     ┆ 191063   │\n",
       "│ 125317    ┆ LUZMILA - ┆ Centro    ┆           ┆   ┆ 9         ┆           ┆ LUZMILA   ┆          │\n",
       "│           ┆ 191063    ┆           ┆           ┆   ┆           ┆           ┆           ┆          │\n",
       "│ WO0000004 ┆ PLAZA     ┆ Zona      ┆ Terminado ┆ … ┆ 2022-06-0 ┆ null      ┆ PLAZA     ┆ 191058   │\n",
       "│ 123812    ┆ LIMA      ┆ Centro    ┆           ┆   ┆ 6         ┆           ┆ LIMA      ┆          │\n",
       "│           ┆ NORTE -   ┆           ┆           ┆   ┆           ┆           ┆ NORTE     ┆          │\n",
       "│           ┆ 191058    ┆           ┆           ┆   ┆           ┆           ┆           ┆          │\n",
       "│ WO0000004 ┆ BELAUNDE  ┆ Zona      ┆ Terminado ┆ … ┆ 2022-06-2 ┆ null      ┆ BELAUNDE  ┆ 191018   │\n",
       "│ 123576    ┆ - 191018  ┆ Centro    ┆           ┆   ┆ 1         ┆           ┆           ┆          │\n",
       "│ WO0000004 ┆ CAYMA -   ┆ Zona      ┆ Cerrado   ┆ … ┆ 2022-06-1 ┆ 2022-06-1 ┆ CAYMA     ┆ 215002   │\n",
       "│ 131410    ┆ 215002    ┆ Norte     ┆           ┆   ┆ 7         ┆ 7         ┆           ┆          │\n",
       "│ WO0000004 ┆ CUSCO -   ┆ Zona      ┆ Cerrado   ┆ … ┆ 2022-06-2 ┆ 2022-06-2 ┆ CUSCO     ┆ 285000   │\n",
       "│ 129580    ┆ 285000    ┆ Norte     ┆           ┆   ┆ 5         ┆ 5         ┆           ┆          │\n",
       "└───────────┴───────────┴───────────┴───────────┴───┴───────────┴───────────┴───────────┴──────────┘"
      ]
     },
     "execution_count": 86,
     "metadata": {},
     "output_type": "execute_result"
    }
   ],
   "source": [
    "Tickets.head(100)"
   ]
  },
  {
   "cell_type": "code",
   "execution_count": 87,
   "metadata": {},
   "outputs": [],
   "source": [
    "Tickets = Tickets.with_columns(\n",
    "    pl.when(pl.col('Fecha Termino').is_null())\n",
    "      .then(pl.col('Fecha Cierre'))\n",
    "      .otherwise(pl.col('Fecha Termino'))\n",
    "      .alias('Fecha Real Fin')\n",
    ")"
   ]
  },
  {
   "cell_type": "code",
   "execution_count": 88,
   "metadata": {},
   "outputs": [
    {
     "data": {
      "text/html": [
       "<div><style>\n",
       ".dataframe > thead > tr,\n",
       ".dataframe > tbody > tr {\n",
       "  text-align: right;\n",
       "  white-space: pre-wrap;\n",
       "}\n",
       "</style>\n",
       "<small>shape: (100, 10)</small><table border=\"1\" class=\"dataframe\"><thead><tr><th>TicketID</th><th>Ubicacion</th><th>Service Desk</th><th>Estado</th><th>Fecha Creacion</th><th>Fecha Termino</th><th>Fecha Cierre</th><th>Agencia</th><th>AgenciaID</th><th>Fecha Real Fin</th></tr><tr><td>str</td><td>str</td><td>str</td><td>str</td><td>date</td><td>date</td><td>date</td><td>str</td><td>i64</td><td>date</td></tr></thead><tbody><tr><td>&quot;WO0000004122687&quot;</td><td>&quot;AREQUIPA - 215000&quot;</td><td>&quot;Zona Norte&quot;</td><td>&quot;Cerrado&quot;</td><td>2022-06-01</td><td>2022-06-14</td><td>2022-06-14</td><td>&quot;AREQUIPA&quot;</td><td>215000</td><td>2022-06-14</td></tr><tr><td>&quot;WO0000004122649&quot;</td><td>&quot;METRO AV. WIESSE - 191106&quot;</td><td>&quot;Zona Centro&quot;</td><td>&quot;Cerrado&quot;</td><td>2022-06-01</td><td>2022-06-17</td><td>2022-06-17</td><td>&quot;METRO AV. WIESSE&quot;</td><td>191106</td><td>2022-06-17</td></tr><tr><td>&quot;WO0000004122502&quot;</td><td>&quot;NICOLAS AYLLON - 191027&quot;</td><td>&quot;Zona Centro&quot;</td><td>&quot;Cerrado&quot;</td><td>2022-06-01</td><td>2022-06-08</td><td>2022-06-08</td><td>&quot;NICOLAS AYLLON&quot;</td><td>191027</td><td>2022-06-08</td></tr><tr><td>&quot;WO0000004122513&quot;</td><td>&quot;JAUREGUI - 405005&quot;</td><td>&quot;Zona Norte&quot;</td><td>&quot;Cerrado&quot;</td><td>2022-06-01</td><td>2022-06-18</td><td>2022-06-18</td><td>&quot;JAUREGUI&quot;</td><td>405005</td><td>2022-06-18</td></tr><tr><td>&quot;WO0000004122741&quot;</td><td>&quot;CANTO GRANDE - 191096&quot;</td><td>&quot;Zona Centro&quot;</td><td>&quot;Cerrado&quot;</td><td>2022-06-01</td><td>2022-06-08</td><td>2022-06-08</td><td>&quot;CANTO GRANDE&quot;</td><td>191096</td><td>2022-06-08</td></tr><tr><td>&quot;WO0000004122511&quot;</td><td>&quot;CHIMPU OCLLO - 191113&quot;</td><td>&quot;Zona Centro&quot;</td><td>&quot;Cerrado&quot;</td><td>2022-06-01</td><td>2022-06-03</td><td>2022-06-03</td><td>&quot;CHIMPU OCLLO&quot;</td><td>191113</td><td>2022-06-03</td></tr><tr><td>&quot;WO0000004122522&quot;</td><td>&quot;MINI AGENCIA BCP SALAMANCA - 191090&quot;</td><td>&quot;Zona Centro&quot;</td><td>&quot;Cerrado&quot;</td><td>2022-06-01</td><td>2022-06-07</td><td>2022-06-07</td><td>&quot;MINI AGENCIA BCP SALAMANCA&quot;</td><td>191090</td><td>2022-06-07</td></tr><tr><td>&quot;WO0000004122302&quot;</td><td>&quot;IMPERIAL - 255001&quot;</td><td>&quot;Zona Norte&quot;</td><td>&quot;Cerrado&quot;</td><td>2022-06-01</td><td>2022-06-10</td><td>2022-06-10</td><td>&quot;IMPERIAL&quot;</td><td>255001</td><td>2022-06-10</td></tr><tr><td>&quot;WO0000004122360&quot;</td><td>&quot;AREQUIPA - 215000&quot;</td><td>&quot;Zona Norte&quot;</td><td>&quot;Cerrado&quot;</td><td>2022-06-01</td><td>2022-06-13</td><td>2022-06-13</td><td>&quot;AREQUIPA&quot;</td><td>215000</td><td>2022-06-13</td></tr><tr><td>&quot;WO0000004122688&quot;</td><td>&quot;AREQUIPA - 215000&quot;</td><td>&quot;Zona Norte&quot;</td><td>&quot;Cerrado&quot;</td><td>2022-06-01</td><td>2022-06-17</td><td>2022-06-17</td><td>&quot;AREQUIPA&quot;</td><td>215000</td><td>2022-06-17</td></tr><tr><td>&quot;WO0000004122303&quot;</td><td>&quot;IMPERIAL - 255001&quot;</td><td>&quot;Zona Norte&quot;</td><td>&quot;Cerrado&quot;</td><td>2022-06-01</td><td>2022-06-17</td><td>2022-06-17</td><td>&quot;IMPERIAL&quot;</td><td>255001</td><td>2022-06-17</td></tr><tr><td>&quot;WO0000004122726&quot;</td><td>&quot;LA SALLE - 191114&quot;</td><td>&quot;Zona Centro&quot;</td><td>&quot;Cerrado&quot;</td><td>2022-06-01</td><td>2022-06-07</td><td>2022-06-07</td><td>&quot;LA SALLE&quot;</td><td>191114</td><td>2022-06-07</td></tr><tr><td>&hellip;</td><td>&hellip;</td><td>&hellip;</td><td>&hellip;</td><td>&hellip;</td><td>&hellip;</td><td>&hellip;</td><td>&hellip;</td><td>&hellip;</td><td>&hellip;</td></tr><tr><td>&quot;WO0000004125579&quot;</td><td>&quot;SAN ROMAN - 405003&quot;</td><td>&quot;Zona Norte&quot;</td><td>&quot;Terminado&quot;</td><td>2022-06-03</td><td>2022-06-08</td><td>null</td><td>&quot;SAN ROMAN&quot;</td><td>405003</td><td>2022-06-08</td></tr><tr><td>&quot;WO0000004123704&quot;</td><td>&quot;NAZCA - 440000&quot;</td><td>&quot;Zona Norte&quot;</td><td>&quot;Terminado&quot;</td><td>2022-06-03</td><td>2022-06-05</td><td>null</td><td>&quot;NAZCA&quot;</td><td>440000</td><td>2022-06-05</td></tr><tr><td>&quot;WO0000004123552&quot;</td><td>&quot;JULIACA - 405000&quot;</td><td>&quot;Zona Norte&quot;</td><td>&quot;Terminado&quot;</td><td>2022-06-03</td><td>2022-06-10</td><td>null</td><td>&quot;JULIACA&quot;</td><td>405000</td><td>2022-06-10</td></tr><tr><td>&quot;WO0000004123605&quot;</td><td>&quot;JULIACA - 405000&quot;</td><td>&quot;Zona Norte&quot;</td><td>&quot;Terminado&quot;</td><td>2022-06-03</td><td>2022-06-10</td><td>null</td><td>&quot;JULIACA&quot;</td><td>405000</td><td>2022-06-10</td></tr><tr><td>&quot;WO0000004123669&quot;</td><td>&quot;COLLIQUE - 191065&quot;</td><td>&quot;Zona Centro&quot;</td><td>&quot;Rechazado&quot;</td><td>2022-06-03</td><td>2022-06-13</td><td>null</td><td>&quot;COLLIQUE&quot;</td><td>191065</td><td>2022-06-13</td></tr><tr><td>&quot;WO0000004123764&quot;</td><td>&quot;ILO - 385000&quot;</td><td>&quot;Zona Norte&quot;</td><td>&quot;Terminado&quot;</td><td>2022-06-03</td><td>2022-06-05</td><td>2022-06-05</td><td>&quot;ILO&quot;</td><td>385000</td><td>2022-06-05</td></tr><tr><td>&quot;WO0000004127481&quot;</td><td>&quot;PLAZA UNION - 191062&quot;</td><td>&quot;Zona Centro&quot;</td><td>&quot;Terminado&quot;</td><td>2022-06-03</td><td>2022-06-05</td><td>null</td><td>&quot;PLAZA UNION&quot;</td><td>191062</td><td>2022-06-05</td></tr><tr><td>&quot;WO0000004125317&quot;</td><td>&quot;SANTA LUZMILA - 191063&quot;</td><td>&quot;Zona Centro&quot;</td><td>&quot;Terminado&quot;</td><td>2022-06-03</td><td>2022-06-19</td><td>null</td><td>&quot;SANTA LUZMILA&quot;</td><td>191063</td><td>2022-06-19</td></tr><tr><td>&quot;WO0000004123812&quot;</td><td>&quot;PLAZA LIMA NORTE - 191058&quot;</td><td>&quot;Zona Centro&quot;</td><td>&quot;Terminado&quot;</td><td>2022-06-03</td><td>2022-06-06</td><td>null</td><td>&quot;PLAZA LIMA NORTE&quot;</td><td>191058</td><td>2022-06-06</td></tr><tr><td>&quot;WO0000004123576&quot;</td><td>&quot;BELAUNDE - 191018&quot;</td><td>&quot;Zona Centro&quot;</td><td>&quot;Terminado&quot;</td><td>2022-06-03</td><td>2022-06-21</td><td>null</td><td>&quot;BELAUNDE&quot;</td><td>191018</td><td>2022-06-21</td></tr><tr><td>&quot;WO0000004131410&quot;</td><td>&quot;CAYMA - 215002&quot;</td><td>&quot;Zona Norte&quot;</td><td>&quot;Cerrado&quot;</td><td>2022-06-04</td><td>2022-06-17</td><td>2022-06-17</td><td>&quot;CAYMA&quot;</td><td>215002</td><td>2022-06-17</td></tr><tr><td>&quot;WO0000004129580&quot;</td><td>&quot;CUSCO - 285000&quot;</td><td>&quot;Zona Norte&quot;</td><td>&quot;Cerrado&quot;</td><td>2022-06-04</td><td>2022-06-25</td><td>2022-06-25</td><td>&quot;CUSCO&quot;</td><td>285000</td><td>2022-06-25</td></tr></tbody></table></div>"
      ],
      "text/plain": [
       "shape: (100, 10)\n",
       "┌───────────┬───────────┬───────────┬───────────┬───┬───────────┬───────────┬───────────┬──────────┐\n",
       "│ TicketID  ┆ Ubicacion ┆ Service   ┆ Estado    ┆ … ┆ Fecha     ┆ Agencia   ┆ AgenciaID ┆ Fecha    │\n",
       "│ ---       ┆ ---       ┆ Desk      ┆ ---       ┆   ┆ Cierre    ┆ ---       ┆ ---       ┆ Real Fin │\n",
       "│ str       ┆ str       ┆ ---       ┆ str       ┆   ┆ ---       ┆ str       ┆ i64       ┆ ---      │\n",
       "│           ┆           ┆ str       ┆           ┆   ┆ date      ┆           ┆           ┆ date     │\n",
       "╞═══════════╪═══════════╪═══════════╪═══════════╪═══╪═══════════╪═══════════╪═══════════╪══════════╡\n",
       "│ WO0000004 ┆ AREQUIPA  ┆ Zona      ┆ Cerrado   ┆ … ┆ 2022-06-1 ┆ AREQUIPA  ┆ 215000    ┆ 2022-06- │\n",
       "│ 122687    ┆ - 215000  ┆ Norte     ┆           ┆   ┆ 4         ┆           ┆           ┆ 14       │\n",
       "│ WO0000004 ┆ METRO AV. ┆ Zona      ┆ Cerrado   ┆ … ┆ 2022-06-1 ┆ METRO AV. ┆ 191106    ┆ 2022-06- │\n",
       "│ 122649    ┆ WIESSE -  ┆ Centro    ┆           ┆   ┆ 7         ┆ WIESSE    ┆           ┆ 17       │\n",
       "│           ┆ 191106    ┆           ┆           ┆   ┆           ┆           ┆           ┆          │\n",
       "│ WO0000004 ┆ NICOLAS   ┆ Zona      ┆ Cerrado   ┆ … ┆ 2022-06-0 ┆ NICOLAS   ┆ 191027    ┆ 2022-06- │\n",
       "│ 122502    ┆ AYLLON -  ┆ Centro    ┆           ┆   ┆ 8         ┆ AYLLON    ┆           ┆ 08       │\n",
       "│           ┆ 191027    ┆           ┆           ┆   ┆           ┆           ┆           ┆          │\n",
       "│ WO0000004 ┆ JAUREGUI  ┆ Zona      ┆ Cerrado   ┆ … ┆ 2022-06-1 ┆ JAUREGUI  ┆ 405005    ┆ 2022-06- │\n",
       "│ 122513    ┆ - 405005  ┆ Norte     ┆           ┆   ┆ 8         ┆           ┆           ┆ 18       │\n",
       "│ WO0000004 ┆ CANTO     ┆ Zona      ┆ Cerrado   ┆ … ┆ 2022-06-0 ┆ CANTO     ┆ 191096    ┆ 2022-06- │\n",
       "│ 122741    ┆ GRANDE -  ┆ Centro    ┆           ┆   ┆ 8         ┆ GRANDE    ┆           ┆ 08       │\n",
       "│           ┆ 191096    ┆           ┆           ┆   ┆           ┆           ┆           ┆          │\n",
       "│ …         ┆ …         ┆ …         ┆ …         ┆ … ┆ …         ┆ …         ┆ …         ┆ …        │\n",
       "│ WO0000004 ┆ SANTA     ┆ Zona      ┆ Terminado ┆ … ┆ null      ┆ SANTA     ┆ 191063    ┆ 2022-06- │\n",
       "│ 125317    ┆ LUZMILA - ┆ Centro    ┆           ┆   ┆           ┆ LUZMILA   ┆           ┆ 19       │\n",
       "│           ┆ 191063    ┆           ┆           ┆   ┆           ┆           ┆           ┆          │\n",
       "│ WO0000004 ┆ PLAZA     ┆ Zona      ┆ Terminado ┆ … ┆ null      ┆ PLAZA     ┆ 191058    ┆ 2022-06- │\n",
       "│ 123812    ┆ LIMA      ┆ Centro    ┆           ┆   ┆           ┆ LIMA      ┆           ┆ 06       │\n",
       "│           ┆ NORTE -   ┆           ┆           ┆   ┆           ┆ NORTE     ┆           ┆          │\n",
       "│           ┆ 191058    ┆           ┆           ┆   ┆           ┆           ┆           ┆          │\n",
       "│ WO0000004 ┆ BELAUNDE  ┆ Zona      ┆ Terminado ┆ … ┆ null      ┆ BELAUNDE  ┆ 191018    ┆ 2022-06- │\n",
       "│ 123576    ┆ - 191018  ┆ Centro    ┆           ┆   ┆           ┆           ┆           ┆ 21       │\n",
       "│ WO0000004 ┆ CAYMA -   ┆ Zona      ┆ Cerrado   ┆ … ┆ 2022-06-1 ┆ CAYMA     ┆ 215002    ┆ 2022-06- │\n",
       "│ 131410    ┆ 215002    ┆ Norte     ┆           ┆   ┆ 7         ┆           ┆           ┆ 17       │\n",
       "│ WO0000004 ┆ CUSCO -   ┆ Zona      ┆ Cerrado   ┆ … ┆ 2022-06-2 ┆ CUSCO     ┆ 285000    ┆ 2022-06- │\n",
       "│ 129580    ┆ 285000    ┆ Norte     ┆           ┆   ┆ 5         ┆           ┆           ┆ 25       │\n",
       "└───────────┴───────────┴───────────┴───────────┴───┴───────────┴───────────┴───────────┴──────────┘"
      ]
     },
     "execution_count": 88,
     "metadata": {},
     "output_type": "execute_result"
    }
   ],
   "source": [
    "Tickets.head(100)"
   ]
  },
  {
   "cell_type": "code",
   "execution_count": 89,
   "metadata": {},
   "outputs": [],
   "source": [
    "\n",
    "Tickets = Tickets.with_columns(\n",
    "    (pl.col('Fecha Real Fin')- pl.col('Fecha Creacion'))\n",
    "    .dt.total_days()\n",
    "    .alias('Dias Cierre')\n",
    ")"
   ]
  },
  {
   "cell_type": "code",
   "execution_count": 90,
   "metadata": {},
   "outputs": [
    {
     "data": {
      "text/html": [
       "<div><style>\n",
       ".dataframe > thead > tr,\n",
       ".dataframe > tbody > tr {\n",
       "  text-align: right;\n",
       "  white-space: pre-wrap;\n",
       "}\n",
       "</style>\n",
       "<small>shape: (100, 11)</small><table border=\"1\" class=\"dataframe\"><thead><tr><th>TicketID</th><th>Ubicacion</th><th>Service Desk</th><th>Estado</th><th>Fecha Creacion</th><th>Fecha Termino</th><th>Fecha Cierre</th><th>Agencia</th><th>AgenciaID</th><th>Fecha Real Fin</th><th>Dias Cierre</th></tr><tr><td>str</td><td>str</td><td>str</td><td>str</td><td>date</td><td>date</td><td>date</td><td>str</td><td>i64</td><td>date</td><td>i64</td></tr></thead><tbody><tr><td>&quot;WO0000004122687&quot;</td><td>&quot;AREQUIPA - 215000&quot;</td><td>&quot;Zona Norte&quot;</td><td>&quot;Cerrado&quot;</td><td>2022-06-01</td><td>2022-06-14</td><td>2022-06-14</td><td>&quot;AREQUIPA&quot;</td><td>215000</td><td>2022-06-14</td><td>13</td></tr><tr><td>&quot;WO0000004122649&quot;</td><td>&quot;METRO AV. WIESSE - 191106&quot;</td><td>&quot;Zona Centro&quot;</td><td>&quot;Cerrado&quot;</td><td>2022-06-01</td><td>2022-06-17</td><td>2022-06-17</td><td>&quot;METRO AV. WIESSE&quot;</td><td>191106</td><td>2022-06-17</td><td>16</td></tr><tr><td>&quot;WO0000004122502&quot;</td><td>&quot;NICOLAS AYLLON - 191027&quot;</td><td>&quot;Zona Centro&quot;</td><td>&quot;Cerrado&quot;</td><td>2022-06-01</td><td>2022-06-08</td><td>2022-06-08</td><td>&quot;NICOLAS AYLLON&quot;</td><td>191027</td><td>2022-06-08</td><td>7</td></tr><tr><td>&quot;WO0000004122513&quot;</td><td>&quot;JAUREGUI - 405005&quot;</td><td>&quot;Zona Norte&quot;</td><td>&quot;Cerrado&quot;</td><td>2022-06-01</td><td>2022-06-18</td><td>2022-06-18</td><td>&quot;JAUREGUI&quot;</td><td>405005</td><td>2022-06-18</td><td>17</td></tr><tr><td>&quot;WO0000004122741&quot;</td><td>&quot;CANTO GRANDE - 191096&quot;</td><td>&quot;Zona Centro&quot;</td><td>&quot;Cerrado&quot;</td><td>2022-06-01</td><td>2022-06-08</td><td>2022-06-08</td><td>&quot;CANTO GRANDE&quot;</td><td>191096</td><td>2022-06-08</td><td>7</td></tr><tr><td>&quot;WO0000004122511&quot;</td><td>&quot;CHIMPU OCLLO - 191113&quot;</td><td>&quot;Zona Centro&quot;</td><td>&quot;Cerrado&quot;</td><td>2022-06-01</td><td>2022-06-03</td><td>2022-06-03</td><td>&quot;CHIMPU OCLLO&quot;</td><td>191113</td><td>2022-06-03</td><td>2</td></tr><tr><td>&quot;WO0000004122522&quot;</td><td>&quot;MINI AGENCIA BCP SALAMANCA - 191090&quot;</td><td>&quot;Zona Centro&quot;</td><td>&quot;Cerrado&quot;</td><td>2022-06-01</td><td>2022-06-07</td><td>2022-06-07</td><td>&quot;MINI AGENCIA BCP SALAMANCA&quot;</td><td>191090</td><td>2022-06-07</td><td>6</td></tr><tr><td>&quot;WO0000004122302&quot;</td><td>&quot;IMPERIAL - 255001&quot;</td><td>&quot;Zona Norte&quot;</td><td>&quot;Cerrado&quot;</td><td>2022-06-01</td><td>2022-06-10</td><td>2022-06-10</td><td>&quot;IMPERIAL&quot;</td><td>255001</td><td>2022-06-10</td><td>9</td></tr><tr><td>&quot;WO0000004122360&quot;</td><td>&quot;AREQUIPA - 215000&quot;</td><td>&quot;Zona Norte&quot;</td><td>&quot;Cerrado&quot;</td><td>2022-06-01</td><td>2022-06-13</td><td>2022-06-13</td><td>&quot;AREQUIPA&quot;</td><td>215000</td><td>2022-06-13</td><td>12</td></tr><tr><td>&quot;WO0000004122688&quot;</td><td>&quot;AREQUIPA - 215000&quot;</td><td>&quot;Zona Norte&quot;</td><td>&quot;Cerrado&quot;</td><td>2022-06-01</td><td>2022-06-17</td><td>2022-06-17</td><td>&quot;AREQUIPA&quot;</td><td>215000</td><td>2022-06-17</td><td>16</td></tr><tr><td>&quot;WO0000004122303&quot;</td><td>&quot;IMPERIAL - 255001&quot;</td><td>&quot;Zona Norte&quot;</td><td>&quot;Cerrado&quot;</td><td>2022-06-01</td><td>2022-06-17</td><td>2022-06-17</td><td>&quot;IMPERIAL&quot;</td><td>255001</td><td>2022-06-17</td><td>16</td></tr><tr><td>&quot;WO0000004122726&quot;</td><td>&quot;LA SALLE - 191114&quot;</td><td>&quot;Zona Centro&quot;</td><td>&quot;Cerrado&quot;</td><td>2022-06-01</td><td>2022-06-07</td><td>2022-06-07</td><td>&quot;LA SALLE&quot;</td><td>191114</td><td>2022-06-07</td><td>6</td></tr><tr><td>&hellip;</td><td>&hellip;</td><td>&hellip;</td><td>&hellip;</td><td>&hellip;</td><td>&hellip;</td><td>&hellip;</td><td>&hellip;</td><td>&hellip;</td><td>&hellip;</td><td>&hellip;</td></tr><tr><td>&quot;WO0000004125579&quot;</td><td>&quot;SAN ROMAN - 405003&quot;</td><td>&quot;Zona Norte&quot;</td><td>&quot;Terminado&quot;</td><td>2022-06-03</td><td>2022-06-08</td><td>null</td><td>&quot;SAN ROMAN&quot;</td><td>405003</td><td>2022-06-08</td><td>5</td></tr><tr><td>&quot;WO0000004123704&quot;</td><td>&quot;NAZCA - 440000&quot;</td><td>&quot;Zona Norte&quot;</td><td>&quot;Terminado&quot;</td><td>2022-06-03</td><td>2022-06-05</td><td>null</td><td>&quot;NAZCA&quot;</td><td>440000</td><td>2022-06-05</td><td>2</td></tr><tr><td>&quot;WO0000004123552&quot;</td><td>&quot;JULIACA - 405000&quot;</td><td>&quot;Zona Norte&quot;</td><td>&quot;Terminado&quot;</td><td>2022-06-03</td><td>2022-06-10</td><td>null</td><td>&quot;JULIACA&quot;</td><td>405000</td><td>2022-06-10</td><td>7</td></tr><tr><td>&quot;WO0000004123605&quot;</td><td>&quot;JULIACA - 405000&quot;</td><td>&quot;Zona Norte&quot;</td><td>&quot;Terminado&quot;</td><td>2022-06-03</td><td>2022-06-10</td><td>null</td><td>&quot;JULIACA&quot;</td><td>405000</td><td>2022-06-10</td><td>7</td></tr><tr><td>&quot;WO0000004123669&quot;</td><td>&quot;COLLIQUE - 191065&quot;</td><td>&quot;Zona Centro&quot;</td><td>&quot;Rechazado&quot;</td><td>2022-06-03</td><td>2022-06-13</td><td>null</td><td>&quot;COLLIQUE&quot;</td><td>191065</td><td>2022-06-13</td><td>10</td></tr><tr><td>&quot;WO0000004123764&quot;</td><td>&quot;ILO - 385000&quot;</td><td>&quot;Zona Norte&quot;</td><td>&quot;Terminado&quot;</td><td>2022-06-03</td><td>2022-06-05</td><td>2022-06-05</td><td>&quot;ILO&quot;</td><td>385000</td><td>2022-06-05</td><td>2</td></tr><tr><td>&quot;WO0000004127481&quot;</td><td>&quot;PLAZA UNION - 191062&quot;</td><td>&quot;Zona Centro&quot;</td><td>&quot;Terminado&quot;</td><td>2022-06-03</td><td>2022-06-05</td><td>null</td><td>&quot;PLAZA UNION&quot;</td><td>191062</td><td>2022-06-05</td><td>2</td></tr><tr><td>&quot;WO0000004125317&quot;</td><td>&quot;SANTA LUZMILA - 191063&quot;</td><td>&quot;Zona Centro&quot;</td><td>&quot;Terminado&quot;</td><td>2022-06-03</td><td>2022-06-19</td><td>null</td><td>&quot;SANTA LUZMILA&quot;</td><td>191063</td><td>2022-06-19</td><td>16</td></tr><tr><td>&quot;WO0000004123812&quot;</td><td>&quot;PLAZA LIMA NORTE - 191058&quot;</td><td>&quot;Zona Centro&quot;</td><td>&quot;Terminado&quot;</td><td>2022-06-03</td><td>2022-06-06</td><td>null</td><td>&quot;PLAZA LIMA NORTE&quot;</td><td>191058</td><td>2022-06-06</td><td>3</td></tr><tr><td>&quot;WO0000004123576&quot;</td><td>&quot;BELAUNDE - 191018&quot;</td><td>&quot;Zona Centro&quot;</td><td>&quot;Terminado&quot;</td><td>2022-06-03</td><td>2022-06-21</td><td>null</td><td>&quot;BELAUNDE&quot;</td><td>191018</td><td>2022-06-21</td><td>18</td></tr><tr><td>&quot;WO0000004131410&quot;</td><td>&quot;CAYMA - 215002&quot;</td><td>&quot;Zona Norte&quot;</td><td>&quot;Cerrado&quot;</td><td>2022-06-04</td><td>2022-06-17</td><td>2022-06-17</td><td>&quot;CAYMA&quot;</td><td>215002</td><td>2022-06-17</td><td>13</td></tr><tr><td>&quot;WO0000004129580&quot;</td><td>&quot;CUSCO - 285000&quot;</td><td>&quot;Zona Norte&quot;</td><td>&quot;Cerrado&quot;</td><td>2022-06-04</td><td>2022-06-25</td><td>2022-06-25</td><td>&quot;CUSCO&quot;</td><td>285000</td><td>2022-06-25</td><td>21</td></tr></tbody></table></div>"
      ],
      "text/plain": [
       "shape: (100, 11)\n",
       "┌───────────┬───────────┬───────────┬───────────┬───┬───────────┬───────────┬───────────┬──────────┐\n",
       "│ TicketID  ┆ Ubicacion ┆ Service   ┆ Estado    ┆ … ┆ Agencia   ┆ AgenciaID ┆ Fecha     ┆ Dias     │\n",
       "│ ---       ┆ ---       ┆ Desk      ┆ ---       ┆   ┆ ---       ┆ ---       ┆ Real Fin  ┆ Cierre   │\n",
       "│ str       ┆ str       ┆ ---       ┆ str       ┆   ┆ str       ┆ i64       ┆ ---       ┆ ---      │\n",
       "│           ┆           ┆ str       ┆           ┆   ┆           ┆           ┆ date      ┆ i64      │\n",
       "╞═══════════╪═══════════╪═══════════╪═══════════╪═══╪═══════════╪═══════════╪═══════════╪══════════╡\n",
       "│ WO0000004 ┆ AREQUIPA  ┆ Zona      ┆ Cerrado   ┆ … ┆ AREQUIPA  ┆ 215000    ┆ 2022-06-1 ┆ 13       │\n",
       "│ 122687    ┆ - 215000  ┆ Norte     ┆           ┆   ┆           ┆           ┆ 4         ┆          │\n",
       "│ WO0000004 ┆ METRO AV. ┆ Zona      ┆ Cerrado   ┆ … ┆ METRO AV. ┆ 191106    ┆ 2022-06-1 ┆ 16       │\n",
       "│ 122649    ┆ WIESSE -  ┆ Centro    ┆           ┆   ┆ WIESSE    ┆           ┆ 7         ┆          │\n",
       "│           ┆ 191106    ┆           ┆           ┆   ┆           ┆           ┆           ┆          │\n",
       "│ WO0000004 ┆ NICOLAS   ┆ Zona      ┆ Cerrado   ┆ … ┆ NICOLAS   ┆ 191027    ┆ 2022-06-0 ┆ 7        │\n",
       "│ 122502    ┆ AYLLON -  ┆ Centro    ┆           ┆   ┆ AYLLON    ┆           ┆ 8         ┆          │\n",
       "│           ┆ 191027    ┆           ┆           ┆   ┆           ┆           ┆           ┆          │\n",
       "│ WO0000004 ┆ JAUREGUI  ┆ Zona      ┆ Cerrado   ┆ … ┆ JAUREGUI  ┆ 405005    ┆ 2022-06-1 ┆ 17       │\n",
       "│ 122513    ┆ - 405005  ┆ Norte     ┆           ┆   ┆           ┆           ┆ 8         ┆          │\n",
       "│ WO0000004 ┆ CANTO     ┆ Zona      ┆ Cerrado   ┆ … ┆ CANTO     ┆ 191096    ┆ 2022-06-0 ┆ 7        │\n",
       "│ 122741    ┆ GRANDE -  ┆ Centro    ┆           ┆   ┆ GRANDE    ┆           ┆ 8         ┆          │\n",
       "│           ┆ 191096    ┆           ┆           ┆   ┆           ┆           ┆           ┆          │\n",
       "│ …         ┆ …         ┆ …         ┆ …         ┆ … ┆ …         ┆ …         ┆ …         ┆ …        │\n",
       "│ WO0000004 ┆ SANTA     ┆ Zona      ┆ Terminado ┆ … ┆ SANTA     ┆ 191063    ┆ 2022-06-1 ┆ 16       │\n",
       "│ 125317    ┆ LUZMILA - ┆ Centro    ┆           ┆   ┆ LUZMILA   ┆           ┆ 9         ┆          │\n",
       "│           ┆ 191063    ┆           ┆           ┆   ┆           ┆           ┆           ┆          │\n",
       "│ WO0000004 ┆ PLAZA     ┆ Zona      ┆ Terminado ┆ … ┆ PLAZA     ┆ 191058    ┆ 2022-06-0 ┆ 3        │\n",
       "│ 123812    ┆ LIMA      ┆ Centro    ┆           ┆   ┆ LIMA      ┆           ┆ 6         ┆          │\n",
       "│           ┆ NORTE -   ┆           ┆           ┆   ┆ NORTE     ┆           ┆           ┆          │\n",
       "│           ┆ 191058    ┆           ┆           ┆   ┆           ┆           ┆           ┆          │\n",
       "│ WO0000004 ┆ BELAUNDE  ┆ Zona      ┆ Terminado ┆ … ┆ BELAUNDE  ┆ 191018    ┆ 2022-06-2 ┆ 18       │\n",
       "│ 123576    ┆ - 191018  ┆ Centro    ┆           ┆   ┆           ┆           ┆ 1         ┆          │\n",
       "│ WO0000004 ┆ CAYMA -   ┆ Zona      ┆ Cerrado   ┆ … ┆ CAYMA     ┆ 215002    ┆ 2022-06-1 ┆ 13       │\n",
       "│ 131410    ┆ 215002    ┆ Norte     ┆           ┆   ┆           ┆           ┆ 7         ┆          │\n",
       "│ WO0000004 ┆ CUSCO -   ┆ Zona      ┆ Cerrado   ┆ … ┆ CUSCO     ┆ 285000    ┆ 2022-06-2 ┆ 21       │\n",
       "│ 129580    ┆ 285000    ┆ Norte     ┆           ┆   ┆           ┆           ┆ 5         ┆          │\n",
       "└───────────┴───────────┴───────────┴───────────┴───┴───────────┴───────────┴───────────┴──────────┘"
      ]
     },
     "execution_count": 90,
     "metadata": {},
     "output_type": "execute_result"
    }
   ],
   "source": [
    "Tickets.head(100)"
   ]
  },
  {
   "cell_type": "code",
   "execution_count": 91,
   "metadata": {},
   "outputs": [
    {
     "data": {
      "text/html": [
       "<div><style>\n",
       ".dataframe > thead > tr,\n",
       ".dataframe > tbody > tr {\n",
       "  text-align: right;\n",
       "  white-space: pre-wrap;\n",
       "}\n",
       "</style>\n",
       "<small>shape: (22_256, 12)</small><table border=\"1\" class=\"dataframe\"><thead><tr><th>TicketID</th><th>Ubicacion</th><th>Service Desk</th><th>Estado</th><th>Fecha Creacion</th><th>Fecha Termino</th><th>Fecha Cierre</th><th>Agencia</th><th>AgenciaID</th><th>Fecha Real Fin</th><th>Dias Cierre</th><th>Grupo Dias</th></tr><tr><td>str</td><td>str</td><td>str</td><td>str</td><td>date</td><td>date</td><td>date</td><td>str</td><td>i64</td><td>date</td><td>i64</td><td>str</td></tr></thead><tbody><tr><td>&quot;WO0000004122687&quot;</td><td>&quot;AREQUIPA - 215000&quot;</td><td>&quot;Zona Norte&quot;</td><td>&quot;Cerrado&quot;</td><td>2022-06-01</td><td>2022-06-14</td><td>2022-06-14</td><td>&quot;AREQUIPA&quot;</td><td>215000</td><td>2022-06-14</td><td>13</td><td>&quot;8 a 15 Dias&quot;</td></tr><tr><td>&quot;WO0000004122649&quot;</td><td>&quot;METRO AV. WIESSE - 191106&quot;</td><td>&quot;Zona Centro&quot;</td><td>&quot;Cerrado&quot;</td><td>2022-06-01</td><td>2022-06-17</td><td>2022-06-17</td><td>&quot;METRO AV. WIESSE&quot;</td><td>191106</td><td>2022-06-17</td><td>16</td><td>&quot;+ 15 Dias&quot;</td></tr><tr><td>&quot;WO0000004122502&quot;</td><td>&quot;NICOLAS AYLLON - 191027&quot;</td><td>&quot;Zona Centro&quot;</td><td>&quot;Cerrado&quot;</td><td>2022-06-01</td><td>2022-06-08</td><td>2022-06-08</td><td>&quot;NICOLAS AYLLON&quot;</td><td>191027</td><td>2022-06-08</td><td>7</td><td>&quot;4 a 7 Dias&quot;</td></tr><tr><td>&quot;WO0000004122513&quot;</td><td>&quot;JAUREGUI - 405005&quot;</td><td>&quot;Zona Norte&quot;</td><td>&quot;Cerrado&quot;</td><td>2022-06-01</td><td>2022-06-18</td><td>2022-06-18</td><td>&quot;JAUREGUI&quot;</td><td>405005</td><td>2022-06-18</td><td>17</td><td>&quot;+ 15 Dias&quot;</td></tr><tr><td>&quot;WO0000004122741&quot;</td><td>&quot;CANTO GRANDE - 191096&quot;</td><td>&quot;Zona Centro&quot;</td><td>&quot;Cerrado&quot;</td><td>2022-06-01</td><td>2022-06-08</td><td>2022-06-08</td><td>&quot;CANTO GRANDE&quot;</td><td>191096</td><td>2022-06-08</td><td>7</td><td>&quot;4 a 7 Dias&quot;</td></tr><tr><td>&quot;WO0000004122511&quot;</td><td>&quot;CHIMPU OCLLO - 191113&quot;</td><td>&quot;Zona Centro&quot;</td><td>&quot;Cerrado&quot;</td><td>2022-06-01</td><td>2022-06-03</td><td>2022-06-03</td><td>&quot;CHIMPU OCLLO&quot;</td><td>191113</td><td>2022-06-03</td><td>2</td><td>&quot;0 a 3 Dias&quot;</td></tr><tr><td>&quot;WO0000004122522&quot;</td><td>&quot;MINI AGENCIA BCP SALAMANCA - 191090&quot;</td><td>&quot;Zona Centro&quot;</td><td>&quot;Cerrado&quot;</td><td>2022-06-01</td><td>2022-06-07</td><td>2022-06-07</td><td>&quot;MINI AGENCIA BCP SALAMANCA&quot;</td><td>191090</td><td>2022-06-07</td><td>6</td><td>&quot;4 a 7 Dias&quot;</td></tr><tr><td>&quot;WO0000004122302&quot;</td><td>&quot;IMPERIAL - 255001&quot;</td><td>&quot;Zona Norte&quot;</td><td>&quot;Cerrado&quot;</td><td>2022-06-01</td><td>2022-06-10</td><td>2022-06-10</td><td>&quot;IMPERIAL&quot;</td><td>255001</td><td>2022-06-10</td><td>9</td><td>&quot;8 a 15 Dias&quot;</td></tr><tr><td>&quot;WO0000004122360&quot;</td><td>&quot;AREQUIPA - 215000&quot;</td><td>&quot;Zona Norte&quot;</td><td>&quot;Cerrado&quot;</td><td>2022-06-01</td><td>2022-06-13</td><td>2022-06-13</td><td>&quot;AREQUIPA&quot;</td><td>215000</td><td>2022-06-13</td><td>12</td><td>&quot;8 a 15 Dias&quot;</td></tr><tr><td>&quot;WO0000004122688&quot;</td><td>&quot;AREQUIPA - 215000&quot;</td><td>&quot;Zona Norte&quot;</td><td>&quot;Cerrado&quot;</td><td>2022-06-01</td><td>2022-06-17</td><td>2022-06-17</td><td>&quot;AREQUIPA&quot;</td><td>215000</td><td>2022-06-17</td><td>16</td><td>&quot;+ 15 Dias&quot;</td></tr><tr><td>&quot;WO0000004122303&quot;</td><td>&quot;IMPERIAL - 255001&quot;</td><td>&quot;Zona Norte&quot;</td><td>&quot;Cerrado&quot;</td><td>2022-06-01</td><td>2022-06-17</td><td>2022-06-17</td><td>&quot;IMPERIAL&quot;</td><td>255001</td><td>2022-06-17</td><td>16</td><td>&quot;+ 15 Dias&quot;</td></tr><tr><td>&quot;WO0000004122726&quot;</td><td>&quot;LA SALLE - 191114&quot;</td><td>&quot;Zona Centro&quot;</td><td>&quot;Cerrado&quot;</td><td>2022-06-01</td><td>2022-06-07</td><td>2022-06-07</td><td>&quot;LA SALLE&quot;</td><td>191114</td><td>2022-06-07</td><td>6</td><td>&quot;4 a 7 Dias&quot;</td></tr><tr><td>&hellip;</td><td>&hellip;</td><td>&hellip;</td><td>&hellip;</td><td>&hellip;</td><td>&hellip;</td><td>&hellip;</td><td>&hellip;</td><td>&hellip;</td><td>&hellip;</td><td>&hellip;</td><td>&hellip;</td></tr><tr><td>&quot;OT0000005737139&quot;</td><td>&quot;CANTO GRANDE - 191096&quot;</td><td>&quot;Zona Centro&quot;</td><td>&quot;En curso&quot;</td><td>2023-10-29</td><td>null</td><td>null</td><td>&quot;CANTO GRANDE&quot;</td><td>191096</td><td>null</td><td>null</td><td>null</td></tr><tr><td>&quot;OT0000005736853&quot;</td><td>&quot;NARANJAL - 191141&quot;</td><td>&quot;Zona Centro&quot;</td><td>&quot;En curso&quot;</td><td>2023-10-29</td><td>null</td><td>null</td><td>&quot;NARANJAL&quot;</td><td>191141</td><td>null</td><td>null</td><td>null</td></tr><tr><td>&quot;OT0000005736847&quot;</td><td>&quot;NARANJAL - 191141&quot;</td><td>&quot;Zona Centro&quot;</td><td>&quot;En curso&quot;</td><td>2023-10-29</td><td>null</td><td>null</td><td>&quot;NARANJAL&quot;</td><td>191141</td><td>null</td><td>null</td><td>null</td></tr><tr><td>&quot;OT0000005736845&quot;</td><td>&quot;NARANJAL - 191141&quot;</td><td>&quot;Zona Centro&quot;</td><td>&quot;En curso&quot;</td><td>2023-10-29</td><td>null</td><td>null</td><td>&quot;NARANJAL&quot;</td><td>191141</td><td>null</td><td>null</td><td>null</td></tr><tr><td>&quot;OT0000005736387&quot;</td><td>&quot;TARAPACA - 191030&quot;</td><td>&quot;Zona Centro&quot;</td><td>&quot;En curso&quot;</td><td>2023-10-29</td><td>null</td><td>null</td><td>&quot;TARAPACA&quot;</td><td>191030</td><td>null</td><td>null</td><td>null</td></tr><tr><td>&quot;WO0000005737826&quot;</td><td>&quot;EDUARDO DE HABICH - 191023&quot;</td><td>&quot;Zona Centro&quot;</td><td>&quot;En curso&quot;</td><td>2023-10-29</td><td>null</td><td>null</td><td>&quot;EDUARDO DE HABICH&quot;</td><td>191023</td><td>null</td><td>null</td><td>null</td></tr><tr><td>&quot;WO0000005736855&quot;</td><td>&quot;NARANJAL - 191141&quot;</td><td>&quot;Zona Centro&quot;</td><td>&quot;En curso&quot;</td><td>2023-10-29</td><td>null</td><td>null</td><td>&quot;NARANJAL&quot;</td><td>191141</td><td>null</td><td>null</td><td>null</td></tr><tr><td>&quot;WO0000005737139&quot;</td><td>&quot;CANTO GRANDE - 191096&quot;</td><td>&quot;Zona Centro&quot;</td><td>&quot;En curso&quot;</td><td>2023-10-29</td><td>null</td><td>null</td><td>&quot;CANTO GRANDE&quot;</td><td>191096</td><td>null</td><td>null</td><td>null</td></tr><tr><td>&quot;WO0000005736853&quot;</td><td>&quot;NARANJAL - 191141&quot;</td><td>&quot;Zona Centro&quot;</td><td>&quot;En curso&quot;</td><td>2023-10-29</td><td>null</td><td>null</td><td>&quot;NARANJAL&quot;</td><td>191141</td><td>null</td><td>null</td><td>null</td></tr><tr><td>&quot;WO0000005736847&quot;</td><td>&quot;NARANJAL - 191141&quot;</td><td>&quot;Zona Centro&quot;</td><td>&quot;En curso&quot;</td><td>2023-10-29</td><td>null</td><td>null</td><td>&quot;NARANJAL&quot;</td><td>191141</td><td>null</td><td>null</td><td>null</td></tr><tr><td>&quot;WO0000005736845&quot;</td><td>&quot;NARANJAL - 191141&quot;</td><td>&quot;Zona Centro&quot;</td><td>&quot;En curso&quot;</td><td>2023-10-29</td><td>null</td><td>null</td><td>&quot;NARANJAL&quot;</td><td>191141</td><td>null</td><td>null</td><td>null</td></tr><tr><td>&quot;WO0000005736387&quot;</td><td>&quot;TARAPACA - 191030&quot;</td><td>&quot;Zona Centro&quot;</td><td>&quot;En curso&quot;</td><td>2023-10-29</td><td>null</td><td>null</td><td>&quot;TARAPACA&quot;</td><td>191030</td><td>null</td><td>null</td><td>null</td></tr></tbody></table></div>"
      ],
      "text/plain": [
       "shape: (22_256, 12)\n",
       "┌────────────┬────────────┬────────────┬──────────┬───┬───────────┬───────────┬────────┬───────────┐\n",
       "│ TicketID   ┆ Ubicacion  ┆ Service    ┆ Estado   ┆ … ┆ AgenciaID ┆ Fecha     ┆ Dias   ┆ Grupo     │\n",
       "│ ---        ┆ ---        ┆ Desk       ┆ ---      ┆   ┆ ---       ┆ Real Fin  ┆ Cierre ┆ Dias      │\n",
       "│ str        ┆ str        ┆ ---        ┆ str      ┆   ┆ i64       ┆ ---       ┆ ---    ┆ ---       │\n",
       "│            ┆            ┆ str        ┆          ┆   ┆           ┆ date      ┆ i64    ┆ str       │\n",
       "╞════════════╪════════════╪════════════╪══════════╪═══╪═══════════╪═══════════╪════════╪═══════════╡\n",
       "│ WO00000041 ┆ AREQUIPA - ┆ Zona Norte ┆ Cerrado  ┆ … ┆ 215000    ┆ 2022-06-1 ┆ 13     ┆ 8 a 15    │\n",
       "│ 22687      ┆ 215000     ┆            ┆          ┆   ┆           ┆ 4         ┆        ┆ Dias      │\n",
       "│ WO00000041 ┆ METRO AV.  ┆ Zona       ┆ Cerrado  ┆ … ┆ 191106    ┆ 2022-06-1 ┆ 16     ┆ + 15 Dias │\n",
       "│ 22649      ┆ WIESSE -   ┆ Centro     ┆          ┆   ┆           ┆ 7         ┆        ┆           │\n",
       "│            ┆ 191106     ┆            ┆          ┆   ┆           ┆           ┆        ┆           │\n",
       "│ WO00000041 ┆ NICOLAS    ┆ Zona       ┆ Cerrado  ┆ … ┆ 191027    ┆ 2022-06-0 ┆ 7      ┆ 4 a 7     │\n",
       "│ 22502      ┆ AYLLON -   ┆ Centro     ┆          ┆   ┆           ┆ 8         ┆        ┆ Dias      │\n",
       "│            ┆ 191027     ┆            ┆          ┆   ┆           ┆           ┆        ┆           │\n",
       "│ WO00000041 ┆ JAUREGUI - ┆ Zona Norte ┆ Cerrado  ┆ … ┆ 405005    ┆ 2022-06-1 ┆ 17     ┆ + 15 Dias │\n",
       "│ 22513      ┆ 405005     ┆            ┆          ┆   ┆           ┆ 8         ┆        ┆           │\n",
       "│ WO00000041 ┆ CANTO      ┆ Zona       ┆ Cerrado  ┆ … ┆ 191096    ┆ 2022-06-0 ┆ 7      ┆ 4 a 7     │\n",
       "│ 22741      ┆ GRANDE -   ┆ Centro     ┆          ┆   ┆           ┆ 8         ┆        ┆ Dias      │\n",
       "│            ┆ 191096     ┆            ┆          ┆   ┆           ┆           ┆        ┆           │\n",
       "│ …          ┆ …          ┆ …          ┆ …        ┆ … ┆ …         ┆ …         ┆ …      ┆ …         │\n",
       "│ WO00000057 ┆ CANTO      ┆ Zona       ┆ En curso ┆ … ┆ 191096    ┆ null      ┆ null   ┆ null      │\n",
       "│ 37139      ┆ GRANDE -   ┆ Centro     ┆          ┆   ┆           ┆           ┆        ┆           │\n",
       "│            ┆ 191096     ┆            ┆          ┆   ┆           ┆           ┆        ┆           │\n",
       "│ WO00000057 ┆ NARANJAL - ┆ Zona       ┆ En curso ┆ … ┆ 191141    ┆ null      ┆ null   ┆ null      │\n",
       "│ 36853      ┆ 191141     ┆ Centro     ┆          ┆   ┆           ┆           ┆        ┆           │\n",
       "│ WO00000057 ┆ NARANJAL - ┆ Zona       ┆ En curso ┆ … ┆ 191141    ┆ null      ┆ null   ┆ null      │\n",
       "│ 36847      ┆ 191141     ┆ Centro     ┆          ┆   ┆           ┆           ┆        ┆           │\n",
       "│ WO00000057 ┆ NARANJAL - ┆ Zona       ┆ En curso ┆ … ┆ 191141    ┆ null      ┆ null   ┆ null      │\n",
       "│ 36845      ┆ 191141     ┆ Centro     ┆          ┆   ┆           ┆           ┆        ┆           │\n",
       "│ WO00000057 ┆ TARAPACA - ┆ Zona       ┆ En curso ┆ … ┆ 191030    ┆ null      ┆ null   ┆ null      │\n",
       "│ 36387      ┆ 191030     ┆ Centro     ┆          ┆   ┆           ┆           ┆        ┆           │\n",
       "└────────────┴────────────┴────────────┴──────────┴───┴───────────┴───────────┴────────┴───────────┘"
      ]
     },
     "execution_count": 91,
     "metadata": {},
     "output_type": "execute_result"
    }
   ],
   "source": [
    "Tickets.with_columns(\n",
    "    pl.when(pl.col('Dias Cierre').is_null()).then(pl.lit(None))\n",
    "    .when(pl.col('Dias Cierre')<= 3).then(pl.lit('0 a 3 Dias'))\n",
    "    .when(pl.col('Dias Cierre')<= 7).then(pl.lit('4 a 7 Dias'))\n",
    "    .when(pl.col('Dias Cierre')<= 15).then(pl.lit('8 a 15 Dias'))                  \n",
    "      .otherwise(pl.lit('+ 15 Dias'))\n",
    "      .alias('Grupo Dias')\n",
    ")"
   ]
  },
  {
   "cell_type": "code",
   "execution_count": 1,
   "metadata": {},
   "outputs": [],
   "source": [
    "from pathlib import Path"
   ]
  },
  {
   "cell_type": "code",
   "execution_count": 114,
   "metadata": {},
   "outputs": [
    {
     "data": {
      "text/plain": [
       "WindowsPath('/Atenciones')"
      ]
     },
     "execution_count": 114,
     "metadata": {},
     "output_type": "execute_result"
    }
   ],
   "source": [
    "rutaCarpeta = Path('/Atenciones/')\n",
    "rutaCarpeta"
   ]
  },
  {
   "cell_type": "code",
   "execution_count": 115,
   "metadata": {},
   "outputs": [
    {
     "data": {
      "text/plain": [
       "[]"
      ]
     },
     "execution_count": 115,
     "metadata": {},
     "output_type": "execute_result"
    }
   ],
   "source": [
    "list(rutaCarpeta.glob('*.xlsx'))"
   ]
  },
  {
   "cell_type": "code",
   "execution_count": 99,
   "metadata": {},
   "outputs": [],
   "source": [
    "archivosExcel = list(rutaCarpeta.glob('*.xlsx'))"
   ]
  },
  {
   "cell_type": "code",
   "execution_count": 116,
   "metadata": {},
   "outputs": [
    {
     "name": "stdout",
     "output_type": "stream",
     "text": [
      "Atenciones Centro.xlsx\n",
      "Atenciones Norte.xlsx\n",
      "Atenciones Sur.xlsx\n"
     ]
    }
   ],
   "source": [
    "for archivo in archivosExcel:\n",
    "   print(str(archivo).split(\"\\\\\")[1])"
   ]
  },
  {
   "cell_type": "code",
   "execution_count": 118,
   "metadata": {},
   "outputs": [
    {
     "ename": "FileNotFoundError",
     "evalue": "/Atenciones/Atenciones Centro.xlsx",
     "output_type": "error",
     "traceback": [
      "\u001b[1;31m---------------------------------------------------------------------------\u001b[0m",
      "\u001b[1;31mFileNotFoundError\u001b[0m                         Traceback (most recent call last)",
      "Cell \u001b[1;32mIn[118], line 5\u001b[0m\n\u001b[0;32m      3\u001b[0m \u001b[38;5;28;01mfor\u001b[39;00m archivo \u001b[38;5;129;01min\u001b[39;00m archivosExcel:   \n\u001b[0;32m      4\u001b[0m     file \u001b[38;5;241m=\u001b[39m \u001b[38;5;28mstr\u001b[39m(archivo)\u001b[38;5;241m.\u001b[39msplit(\u001b[38;5;124m\"\u001b[39m\u001b[38;5;130;01m\\\\\u001b[39;00m\u001b[38;5;124m\"\u001b[39m)[\u001b[38;5;241m1\u001b[39m]   \n\u001b[1;32m----> 5\u001b[0m     aux_DB \u001b[38;5;241m=\u001b[39m \u001b[43mpl\u001b[49m\u001b[38;5;241;43m.\u001b[39;49m\u001b[43mread_excel\u001b[49m\u001b[43m(\u001b[49m\n\u001b[0;32m      6\u001b[0m \u001b[43m          \u001b[49m\u001b[43msource\u001b[49m\u001b[43m \u001b[49m\u001b[38;5;241;43m=\u001b[39;49m\u001b[43m \u001b[49m\u001b[38;5;124;43m'\u001b[39;49m\u001b[38;5;124;43m/Atenciones/\u001b[39;49m\u001b[38;5;124;43m'\u001b[39;49m\u001b[38;5;241;43m+\u001b[39;49m\u001b[43m \u001b[49m\u001b[43mfile\u001b[49m\u001b[43m,\u001b[49m\n\u001b[0;32m      7\u001b[0m \u001b[43m          \u001b[49m\u001b[43msheet_name\u001b[49m\u001b[43m \u001b[49m\u001b[38;5;241;43m=\u001b[39;49m\u001b[43m \u001b[49m\u001b[38;5;124;43m'\u001b[39;49m\u001b[38;5;124;43mHoja1\u001b[39;49m\u001b[38;5;124;43m'\u001b[39;49m\u001b[43m,\u001b[49m\u001b[43m   \u001b[49m\n\u001b[0;32m      8\u001b[0m \u001b[43m          \u001b[49m\u001b[43mengine\u001b[49m\u001b[43m \u001b[49m\u001b[38;5;241;43m=\u001b[39;49m\u001b[43m \u001b[49m\u001b[38;5;124;43m'\u001b[39;49m\u001b[38;5;124;43mxlsx2csv\u001b[39;49m\u001b[38;5;124;43m'\u001b[39;49m\u001b[43m,\u001b[49m\n\u001b[0;32m      9\u001b[0m \u001b[43m          \u001b[49m\u001b[43mread_options\u001b[49m\u001b[38;5;241;43m=\u001b[39;49m\u001b[43m{\u001b[49m\n\u001b[0;32m     10\u001b[0m \u001b[43m              \u001b[49m\u001b[38;5;124;43m\"\u001b[39;49m\u001b[38;5;124;43mcolumns\u001b[39;49m\u001b[38;5;124;43m\"\u001b[39;49m\u001b[43m:\u001b[49m\u001b[43m \u001b[49m\u001b[43m[\u001b[49m\u001b[38;5;124;43m\"\u001b[39;49m\u001b[38;5;124;43mNumero Ticket\u001b[39;49m\u001b[38;5;124;43m\"\u001b[39;49m\u001b[43m,\u001b[49m\u001b[38;5;124;43m\"\u001b[39;49m\u001b[38;5;124;43mTipo de Ticket\u001b[39;49m\u001b[38;5;124;43m\"\u001b[39;49m\u001b[43m,\u001b[49m\u001b[38;5;124;43m\"\u001b[39;49m\u001b[38;5;124;43mProveedor\u001b[39;49m\u001b[38;5;124;43m\"\u001b[39;49m\u001b[43m,\u001b[49m\u001b[38;5;124;43m\"\u001b[39;49m\u001b[38;5;124;43mCosto Atencion\u001b[39;49m\u001b[38;5;124;43m\"\u001b[39;49m\u001b[43m]\u001b[49m\n\u001b[0;32m     11\u001b[0m \u001b[43m          \u001b[49m\u001b[43m}\u001b[49m\n\u001b[0;32m     12\u001b[0m \u001b[43m      \u001b[49m\u001b[43m)\u001b[49m\n\u001b[0;32m     14\u001b[0m     aux_DB \u001b[38;5;241m=\u001b[39m aux_DB\u001b[38;5;241m.\u001b[39mwith_columns(pl\u001b[38;5;241m.\u001b[39mlit(archivo)\u001b[38;5;241m.\u001b[39malias(\u001b[38;5;124m'\u001b[39m\u001b[38;5;124mNombre Archivo\u001b[39m\u001b[38;5;124m'\u001b[39m))\n\u001b[0;32m     15\u001b[0m     DataAtenciones \u001b[38;5;241m=\u001b[39m pl\u001b[38;5;241m.\u001b[39mconcat(DataAtenciones,aux_DB,how\u001b[38;5;241m=\u001b[39m \u001b[38;5;124m'\u001b[39m\u001b[38;5;124mvertical\u001b[39m\u001b[38;5;124m'\u001b[39m)                          \n",
      "File \u001b[1;32mc:\\Users\\ehuillcaya\\Documents\\Gestion Atenciones\\Vcasopractico\\Lib\\site-packages\\polars\\utils\\deprecation.py:136\u001b[0m, in \u001b[0;36mdeprecate_renamed_parameter.<locals>.decorate.<locals>.wrapper\u001b[1;34m(*args, **kwargs)\u001b[0m\n\u001b[0;32m    131\u001b[0m \u001b[38;5;129m@wraps\u001b[39m(function)\n\u001b[0;32m    132\u001b[0m \u001b[38;5;28;01mdef\u001b[39;00m \u001b[38;5;21mwrapper\u001b[39m(\u001b[38;5;241m*\u001b[39margs: P\u001b[38;5;241m.\u001b[39margs, \u001b[38;5;241m*\u001b[39m\u001b[38;5;241m*\u001b[39mkwargs: P\u001b[38;5;241m.\u001b[39mkwargs) \u001b[38;5;241m-\u001b[39m\u001b[38;5;241m>\u001b[39m T:\n\u001b[0;32m    133\u001b[0m     _rename_keyword_argument(\n\u001b[0;32m    134\u001b[0m         old_name, new_name, kwargs, function\u001b[38;5;241m.\u001b[39m\u001b[38;5;18m__name__\u001b[39m, version\n\u001b[0;32m    135\u001b[0m     )\n\u001b[1;32m--> 136\u001b[0m     \u001b[38;5;28;01mreturn\u001b[39;00m \u001b[43mfunction\u001b[49m\u001b[43m(\u001b[49m\u001b[38;5;241;43m*\u001b[39;49m\u001b[43margs\u001b[49m\u001b[43m,\u001b[49m\u001b[43m \u001b[49m\u001b[38;5;241;43m*\u001b[39;49m\u001b[38;5;241;43m*\u001b[39;49m\u001b[43mkwargs\u001b[49m\u001b[43m)\u001b[49m\n",
      "File \u001b[1;32mc:\\Users\\ehuillcaya\\Documents\\Gestion Atenciones\\Vcasopractico\\Lib\\site-packages\\polars\\utils\\deprecation.py:136\u001b[0m, in \u001b[0;36mdeprecate_renamed_parameter.<locals>.decorate.<locals>.wrapper\u001b[1;34m(*args, **kwargs)\u001b[0m\n\u001b[0;32m    131\u001b[0m \u001b[38;5;129m@wraps\u001b[39m(function)\n\u001b[0;32m    132\u001b[0m \u001b[38;5;28;01mdef\u001b[39;00m \u001b[38;5;21mwrapper\u001b[39m(\u001b[38;5;241m*\u001b[39margs: P\u001b[38;5;241m.\u001b[39margs, \u001b[38;5;241m*\u001b[39m\u001b[38;5;241m*\u001b[39mkwargs: P\u001b[38;5;241m.\u001b[39mkwargs) \u001b[38;5;241m-\u001b[39m\u001b[38;5;241m>\u001b[39m T:\n\u001b[0;32m    133\u001b[0m     _rename_keyword_argument(\n\u001b[0;32m    134\u001b[0m         old_name, new_name, kwargs, function\u001b[38;5;241m.\u001b[39m\u001b[38;5;18m__name__\u001b[39m, version\n\u001b[0;32m    135\u001b[0m     )\n\u001b[1;32m--> 136\u001b[0m     \u001b[38;5;28;01mreturn\u001b[39;00m \u001b[43mfunction\u001b[49m\u001b[43m(\u001b[49m\u001b[38;5;241;43m*\u001b[39;49m\u001b[43margs\u001b[49m\u001b[43m,\u001b[49m\u001b[43m \u001b[49m\u001b[38;5;241;43m*\u001b[39;49m\u001b[38;5;241;43m*\u001b[39;49m\u001b[43mkwargs\u001b[49m\u001b[43m)\u001b[49m\n",
      "File \u001b[1;32mc:\\Users\\ehuillcaya\\Documents\\Gestion Atenciones\\Vcasopractico\\Lib\\site-packages\\polars\\io\\spreadsheet\\functions.py:259\u001b[0m, in \u001b[0;36mread_excel\u001b[1;34m(source, sheet_id, sheet_name, engine, engine_options, read_options, schema_overrides, raise_if_empty)\u001b[0m\n\u001b[0;32m    126\u001b[0m \u001b[38;5;129m@deprecate_renamed_parameter\u001b[39m(\u001b[38;5;124m\"\u001b[39m\u001b[38;5;124mxlsx2csv_options\u001b[39m\u001b[38;5;124m\"\u001b[39m, \u001b[38;5;124m\"\u001b[39m\u001b[38;5;124mengine_options\u001b[39m\u001b[38;5;124m\"\u001b[39m, version\u001b[38;5;241m=\u001b[39m\u001b[38;5;124m\"\u001b[39m\u001b[38;5;124m0.20.6\u001b[39m\u001b[38;5;124m\"\u001b[39m)\n\u001b[0;32m    127\u001b[0m \u001b[38;5;129m@deprecate_renamed_parameter\u001b[39m(\u001b[38;5;124m\"\u001b[39m\u001b[38;5;124mread_csv_options\u001b[39m\u001b[38;5;124m\"\u001b[39m, \u001b[38;5;124m\"\u001b[39m\u001b[38;5;124mread_options\u001b[39m\u001b[38;5;124m\"\u001b[39m, version\u001b[38;5;241m=\u001b[39m\u001b[38;5;124m\"\u001b[39m\u001b[38;5;124m0.20.7\u001b[39m\u001b[38;5;124m\"\u001b[39m)\n\u001b[0;32m    128\u001b[0m \u001b[38;5;28;01mdef\u001b[39;00m \u001b[38;5;21mread_excel\u001b[39m(\n\u001b[1;32m   (...)\u001b[0m\n\u001b[0;32m    137\u001b[0m     raise_if_empty: \u001b[38;5;28mbool\u001b[39m \u001b[38;5;241m=\u001b[39m \u001b[38;5;28;01mTrue\u001b[39;00m,\n\u001b[0;32m    138\u001b[0m ) \u001b[38;5;241m-\u001b[39m\u001b[38;5;241m>\u001b[39m pl\u001b[38;5;241m.\u001b[39mDataFrame \u001b[38;5;241m|\u001b[39m \u001b[38;5;28mdict\u001b[39m[\u001b[38;5;28mstr\u001b[39m, pl\u001b[38;5;241m.\u001b[39mDataFrame]:\n\u001b[0;32m    139\u001b[0m \u001b[38;5;250m    \u001b[39m\u001b[38;5;124;03m\"\"\"\u001b[39;00m\n\u001b[0;32m    140\u001b[0m \u001b[38;5;124;03m    Read Excel spreadsheet data into a DataFrame.\u001b[39;00m\n\u001b[0;32m    141\u001b[0m \n\u001b[1;32m   (...)\u001b[0m\n\u001b[0;32m    257\u001b[0m \u001b[38;5;124;03m    ... )  # doctest: +SKIP\u001b[39;00m\n\u001b[0;32m    258\u001b[0m \u001b[38;5;124;03m    \"\"\"\u001b[39;00m\n\u001b[1;32m--> 259\u001b[0m     \u001b[38;5;28;01mreturn\u001b[39;00m \u001b[43m_read_spreadsheet\u001b[49m\u001b[43m(\u001b[49m\n\u001b[0;32m    260\u001b[0m \u001b[43m        \u001b[49m\u001b[43msheet_id\u001b[49m\u001b[43m,\u001b[49m\n\u001b[0;32m    261\u001b[0m \u001b[43m        \u001b[49m\u001b[43msheet_name\u001b[49m\u001b[43m,\u001b[49m\n\u001b[0;32m    262\u001b[0m \u001b[43m        \u001b[49m\u001b[43msource\u001b[49m\u001b[38;5;241;43m=\u001b[39;49m\u001b[43msource\u001b[49m\u001b[43m,\u001b[49m\n\u001b[0;32m    263\u001b[0m \u001b[43m        \u001b[49m\u001b[43mengine\u001b[49m\u001b[38;5;241;43m=\u001b[39;49m\u001b[43mengine\u001b[49m\u001b[43m,\u001b[49m\n\u001b[0;32m    264\u001b[0m \u001b[43m        \u001b[49m\u001b[43mengine_options\u001b[49m\u001b[38;5;241;43m=\u001b[39;49m\u001b[43mengine_options\u001b[49m\u001b[43m,\u001b[49m\n\u001b[0;32m    265\u001b[0m \u001b[43m        \u001b[49m\u001b[43mread_options\u001b[49m\u001b[38;5;241;43m=\u001b[39;49m\u001b[43mread_options\u001b[49m\u001b[43m,\u001b[49m\n\u001b[0;32m    266\u001b[0m \u001b[43m        \u001b[49m\u001b[43mschema_overrides\u001b[49m\u001b[38;5;241;43m=\u001b[39;49m\u001b[43mschema_overrides\u001b[49m\u001b[43m,\u001b[49m\n\u001b[0;32m    267\u001b[0m \u001b[43m        \u001b[49m\u001b[43mraise_if_empty\u001b[49m\u001b[38;5;241;43m=\u001b[39;49m\u001b[43mraise_if_empty\u001b[49m\u001b[43m,\u001b[49m\n\u001b[0;32m    268\u001b[0m \u001b[43m    \u001b[49m\u001b[43m)\u001b[49m\n",
      "File \u001b[1;32mc:\\Users\\ehuillcaya\\Documents\\Gestion Atenciones\\Vcasopractico\\Lib\\site-packages\\polars\\io\\spreadsheet\\functions.py:481\u001b[0m, in \u001b[0;36m_read_spreadsheet\u001b[1;34m(sheet_id, sheet_name, source, engine, engine_options, read_options, schema_overrides, raise_if_empty)\u001b[0m\n\u001b[0;32m    478\u001b[0m         engine \u001b[38;5;241m=\u001b[39m \u001b[38;5;124m\"\u001b[39m\u001b[38;5;124mxlsx2csv\u001b[39m\u001b[38;5;124m\"\u001b[39m\n\u001b[0;32m    480\u001b[0m \u001b[38;5;66;03m# establish the reading function, parser, and available worksheets\u001b[39;00m\n\u001b[1;32m--> 481\u001b[0m reader_fn, parser, worksheets \u001b[38;5;241m=\u001b[39m \u001b[43m_initialise_spreadsheet_parser\u001b[49m\u001b[43m(\u001b[49m\n\u001b[0;32m    482\u001b[0m \u001b[43m    \u001b[49m\u001b[43mengine\u001b[49m\u001b[43m,\u001b[49m\u001b[43m \u001b[49m\u001b[43msource\u001b[49m\u001b[43m,\u001b[49m\u001b[43m \u001b[49m\u001b[43mengine_options\u001b[49m\u001b[43m \u001b[49m\u001b[38;5;129;43;01mor\u001b[39;49;00m\u001b[43m \u001b[49m\u001b[43m{\u001b[49m\u001b[43m}\u001b[49m\n\u001b[0;32m    483\u001b[0m \u001b[43m\u001b[49m\u001b[43m)\u001b[49m\n\u001b[0;32m    484\u001b[0m \u001b[38;5;28;01mtry\u001b[39;00m:\n\u001b[0;32m    485\u001b[0m     \u001b[38;5;66;03m# parse data from the indicated sheet(s)\u001b[39;00m\n\u001b[0;32m    486\u001b[0m     sheet_names, return_multi \u001b[38;5;241m=\u001b[39m _get_sheet_names(sheet_id, sheet_name, worksheets)\n",
      "File \u001b[1;32mc:\\Users\\ehuillcaya\\Documents\\Gestion Atenciones\\Vcasopractico\\Lib\\site-packages\\polars\\io\\spreadsheet\\functions.py:565\u001b[0m, in \u001b[0;36m_initialise_spreadsheet_parser\u001b[1;34m(engine, source, engine_options)\u001b[0m\n\u001b[0;32m    563\u001b[0m \u001b[38;5;250m\u001b[39m\u001b[38;5;124;03m\"\"\"Instantiate the indicated spreadsheet parser and establish related properties.\"\"\"\u001b[39;00m\n\u001b[0;32m    564\u001b[0m \u001b[38;5;28;01mif\u001b[39;00m \u001b[38;5;28misinstance\u001b[39m(source, (\u001b[38;5;28mstr\u001b[39m, Path)) \u001b[38;5;129;01mand\u001b[39;00m \u001b[38;5;129;01mnot\u001b[39;00m Path(source)\u001b[38;5;241m.\u001b[39mexists():\n\u001b[1;32m--> 565\u001b[0m     \u001b[38;5;28;01mraise\u001b[39;00m \u001b[38;5;167;01mFileNotFoundError\u001b[39;00m(source)\n\u001b[0;32m    567\u001b[0m \u001b[38;5;28;01mif\u001b[39;00m engine \u001b[38;5;241m==\u001b[39m \u001b[38;5;124m\"\u001b[39m\u001b[38;5;124mxlsx2csv\u001b[39m\u001b[38;5;124m\"\u001b[39m:  \u001b[38;5;66;03m# default\u001b[39;00m\n\u001b[0;32m    568\u001b[0m     xlsx2csv \u001b[38;5;241m=\u001b[39m import_optional(\u001b[38;5;124m\"\u001b[39m\u001b[38;5;124mxlsx2csv\u001b[39m\u001b[38;5;124m\"\u001b[39m)\n",
      "\u001b[1;31mFileNotFoundError\u001b[0m: /Atenciones/Atenciones Centro.xlsx"
     ]
    }
   ],
   "source": [
    "DataAtenciones = pl.DataFrame()\n",
    "\n",
    "for archivo in archivosExcel:   \n",
    "    file = str(archivo).split(\"\\\\\")[1]   \n",
    "    aux_DB = pl.read_excel(\n",
    "          source = '/Atenciones/'+ file,\n",
    "          sheet_name = 'Hoja1',   \n",
    "          engine = 'xlsx2csv',\n",
    "          read_options={\n",
    "              \"columns\": [\"Numero Ticket\",\"Tipo de Ticket\",\"Proveedor\",\"Costo Atencion\"]\n",
    "          }\n",
    "      )\n",
    "\n",
    "    aux_DB = aux_DB.with_columns(pl.lit(archivo).alias('Nombre Archivo'))\n",
    "    DataAtenciones = pl.concat(DataAtenciones,aux_DB,how= 'vertical')                          \n"
   ]
  }
 ],
 "metadata": {
  "kernelspec": {
   "display_name": "Vcasopractico",
   "language": "python",
   "name": "python3"
  },
  "language_info": {
   "codemirror_mode": {
    "name": "ipython",
    "version": 3
   },
   "file_extension": ".py",
   "mimetype": "text/x-python",
   "name": "python",
   "nbconvert_exporter": "python",
   "pygments_lexer": "ipython3",
   "version": "3.12.1"
  }
 },
 "nbformat": 4,
 "nbformat_minor": 2
}
